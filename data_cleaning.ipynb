{
 "cells": [
  {
   "cell_type": "code",
   "execution_count": 36,
   "metadata": {},
   "outputs": [],
   "source": [
    "import pandas as pd\n",
    "import matplotlib.pyplot as plt\n",
    "import seaborn as sns\n",
    "import numpy as np"
   ]
  },
  {
   "cell_type": "code",
   "execution_count": 6,
   "metadata": {},
   "outputs": [
    {
     "name": "stderr",
     "output_type": "stream",
     "text": [
      "/var/folders/v6/dj9r3dn51mbbgl1x9whmvfpm0000gn/T/ipykernel_69167/1629611577.py:1: DtypeWarning: Columns (1,11,12,14) have mixed types. Specify dtype option on import or set low_memory=False.\n",
      "  df = pd.read_csv('new.csv', encoding='gbk')\n"
     ]
    }
   ],
   "source": [
    "df = pd.read_csv('new.csv', encoding='gbk')"
   ]
  },
  {
   "cell_type": "code",
   "execution_count": 7,
   "metadata": {},
   "outputs": [
    {
     "data": {
      "text/plain": [
       "Index(['url', 'id', 'Lng', 'Lat', 'Cid', 'tradeTime', 'DOM', 'followers',\n",
       "       'totalPrice', 'price', 'square', 'livingRoom', 'drawingRoom', 'kitchen',\n",
       "       'bathRoom', 'floor', 'buildingType', 'constructionTime',\n",
       "       'renovationCondition', 'buildingStructure', 'ladderRatio', 'elevator',\n",
       "       'fiveYearsProperty', 'subway', 'district', 'communityAverage'],\n",
       "      dtype='object')"
      ]
     },
     "execution_count": 7,
     "metadata": {},
     "output_type": "execute_result"
    }
   ],
   "source": [
    "df.columns"
   ]
  },
  {
   "cell_type": "code",
   "execution_count": 8,
   "metadata": {},
   "outputs": [
    {
     "data": {
      "text/html": [
       "<div>\n",
       "<style scoped>\n",
       "    .dataframe tbody tr th:only-of-type {\n",
       "        vertical-align: middle;\n",
       "    }\n",
       "\n",
       "    .dataframe tbody tr th {\n",
       "        vertical-align: top;\n",
       "    }\n",
       "\n",
       "    .dataframe thead th {\n",
       "        text-align: right;\n",
       "    }\n",
       "</style>\n",
       "<table border=\"1\" class=\"dataframe\">\n",
       "  <thead>\n",
       "    <tr style=\"text-align: right;\">\n",
       "      <th></th>\n",
       "      <th>url</th>\n",
       "      <th>id</th>\n",
       "      <th>Lng</th>\n",
       "      <th>Lat</th>\n",
       "      <th>Cid</th>\n",
       "      <th>tradeTime</th>\n",
       "      <th>DOM</th>\n",
       "      <th>followers</th>\n",
       "      <th>totalPrice</th>\n",
       "      <th>price</th>\n",
       "      <th>...</th>\n",
       "      <th>buildingType</th>\n",
       "      <th>constructionTime</th>\n",
       "      <th>renovationCondition</th>\n",
       "      <th>buildingStructure</th>\n",
       "      <th>ladderRatio</th>\n",
       "      <th>elevator</th>\n",
       "      <th>fiveYearsProperty</th>\n",
       "      <th>subway</th>\n",
       "      <th>district</th>\n",
       "      <th>communityAverage</th>\n",
       "    </tr>\n",
       "  </thead>\n",
       "  <tbody>\n",
       "    <tr>\n",
       "      <th>0</th>\n",
       "      <td>https://bj.lianjia.com/chengjiao/101084782030....</td>\n",
       "      <td>101084782030</td>\n",
       "      <td>116.475489</td>\n",
       "      <td>40.019520</td>\n",
       "      <td>1111027376244</td>\n",
       "      <td>2016-08-09</td>\n",
       "      <td>1464.0</td>\n",
       "      <td>106</td>\n",
       "      <td>415.0</td>\n",
       "      <td>31680</td>\n",
       "      <td>...</td>\n",
       "      <td>1.0</td>\n",
       "      <td>2005</td>\n",
       "      <td>3</td>\n",
       "      <td>6</td>\n",
       "      <td>0.217</td>\n",
       "      <td>1.0</td>\n",
       "      <td>0.0</td>\n",
       "      <td>1.0</td>\n",
       "      <td>7</td>\n",
       "      <td>56021.0</td>\n",
       "    </tr>\n",
       "    <tr>\n",
       "      <th>1</th>\n",
       "      <td>https://bj.lianjia.com/chengjiao/101086012217....</td>\n",
       "      <td>101086012217</td>\n",
       "      <td>116.453917</td>\n",
       "      <td>39.881534</td>\n",
       "      <td>1111027381879</td>\n",
       "      <td>2016-07-28</td>\n",
       "      <td>903.0</td>\n",
       "      <td>126</td>\n",
       "      <td>575.0</td>\n",
       "      <td>43436</td>\n",
       "      <td>...</td>\n",
       "      <td>1.0</td>\n",
       "      <td>2004</td>\n",
       "      <td>4</td>\n",
       "      <td>6</td>\n",
       "      <td>0.667</td>\n",
       "      <td>1.0</td>\n",
       "      <td>1.0</td>\n",
       "      <td>0.0</td>\n",
       "      <td>7</td>\n",
       "      <td>71539.0</td>\n",
       "    </tr>\n",
       "    <tr>\n",
       "      <th>2</th>\n",
       "      <td>https://bj.lianjia.com/chengjiao/101086041636....</td>\n",
       "      <td>101086041636</td>\n",
       "      <td>116.561978</td>\n",
       "      <td>39.877145</td>\n",
       "      <td>1111040862969</td>\n",
       "      <td>2016-12-11</td>\n",
       "      <td>1271.0</td>\n",
       "      <td>48</td>\n",
       "      <td>1030.0</td>\n",
       "      <td>52021</td>\n",
       "      <td>...</td>\n",
       "      <td>4.0</td>\n",
       "      <td>2005</td>\n",
       "      <td>3</td>\n",
       "      <td>6</td>\n",
       "      <td>0.500</td>\n",
       "      <td>1.0</td>\n",
       "      <td>0.0</td>\n",
       "      <td>0.0</td>\n",
       "      <td>7</td>\n",
       "      <td>48160.0</td>\n",
       "    </tr>\n",
       "    <tr>\n",
       "      <th>3</th>\n",
       "      <td>https://bj.lianjia.com/chengjiao/101086406841....</td>\n",
       "      <td>101086406841</td>\n",
       "      <td>116.438010</td>\n",
       "      <td>40.076114</td>\n",
       "      <td>1111043185817</td>\n",
       "      <td>2016-09-30</td>\n",
       "      <td>965.0</td>\n",
       "      <td>138</td>\n",
       "      <td>297.5</td>\n",
       "      <td>22202</td>\n",
       "      <td>...</td>\n",
       "      <td>1.0</td>\n",
       "      <td>2008</td>\n",
       "      <td>1</td>\n",
       "      <td>6</td>\n",
       "      <td>0.273</td>\n",
       "      <td>1.0</td>\n",
       "      <td>0.0</td>\n",
       "      <td>0.0</td>\n",
       "      <td>6</td>\n",
       "      <td>51238.0</td>\n",
       "    </tr>\n",
       "    <tr>\n",
       "      <th>4</th>\n",
       "      <td>https://bj.lianjia.com/chengjiao/101086920653....</td>\n",
       "      <td>101086920653</td>\n",
       "      <td>116.428392</td>\n",
       "      <td>39.886229</td>\n",
       "      <td>1111027381174</td>\n",
       "      <td>2016-08-28</td>\n",
       "      <td>927.0</td>\n",
       "      <td>286</td>\n",
       "      <td>392.0</td>\n",
       "      <td>48396</td>\n",
       "      <td>...</td>\n",
       "      <td>4.0</td>\n",
       "      <td>1960</td>\n",
       "      <td>2</td>\n",
       "      <td>2</td>\n",
       "      <td>0.333</td>\n",
       "      <td>0.0</td>\n",
       "      <td>1.0</td>\n",
       "      <td>1.0</td>\n",
       "      <td>1</td>\n",
       "      <td>62588.0</td>\n",
       "    </tr>\n",
       "  </tbody>\n",
       "</table>\n",
       "<p>5 rows × 26 columns</p>\n",
       "</div>"
      ],
      "text/plain": [
       "                                                 url            id  \\\n",
       "0  https://bj.lianjia.com/chengjiao/101084782030....  101084782030   \n",
       "1  https://bj.lianjia.com/chengjiao/101086012217....  101086012217   \n",
       "2  https://bj.lianjia.com/chengjiao/101086041636....  101086041636   \n",
       "3  https://bj.lianjia.com/chengjiao/101086406841....  101086406841   \n",
       "4  https://bj.lianjia.com/chengjiao/101086920653....  101086920653   \n",
       "\n",
       "          Lng        Lat            Cid   tradeTime     DOM  followers  \\\n",
       "0  116.475489  40.019520  1111027376244  2016-08-09  1464.0        106   \n",
       "1  116.453917  39.881534  1111027381879  2016-07-28   903.0        126   \n",
       "2  116.561978  39.877145  1111040862969  2016-12-11  1271.0         48   \n",
       "3  116.438010  40.076114  1111043185817  2016-09-30   965.0        138   \n",
       "4  116.428392  39.886229  1111027381174  2016-08-28   927.0        286   \n",
       "\n",
       "   totalPrice  price  ...  buildingType constructionTime renovationCondition  \\\n",
       "0       415.0  31680  ...           1.0             2005                   3   \n",
       "1       575.0  43436  ...           1.0             2004                   4   \n",
       "2      1030.0  52021  ...           4.0             2005                   3   \n",
       "3       297.5  22202  ...           1.0             2008                   1   \n",
       "4       392.0  48396  ...           4.0             1960                   2   \n",
       "\n",
       "   buildingStructure ladderRatio elevator  fiveYearsProperty subway  district  \\\n",
       "0                  6       0.217      1.0                0.0    1.0         7   \n",
       "1                  6       0.667      1.0                1.0    0.0         7   \n",
       "2                  6       0.500      1.0                0.0    0.0         7   \n",
       "3                  6       0.273      1.0                0.0    0.0         6   \n",
       "4                  2       0.333      0.0                1.0    1.0         1   \n",
       "\n",
       "   communityAverage  \n",
       "0           56021.0  \n",
       "1           71539.0  \n",
       "2           48160.0  \n",
       "3           51238.0  \n",
       "4           62588.0  \n",
       "\n",
       "[5 rows x 26 columns]"
      ]
     },
     "execution_count": 8,
     "metadata": {},
     "output_type": "execute_result"
    }
   ],
   "source": [
    "df.head()"
   ]
  },
  {
   "cell_type": "code",
   "execution_count": 9,
   "metadata": {},
   "outputs": [],
   "source": [
    "df.drop(['url','Cid','id'],axis=1,inplace=True)"
   ]
  },
  {
   "cell_type": "code",
   "execution_count": 15,
   "metadata": {},
   "outputs": [
    {
     "data": {
      "image/png": "[encoded data removed]",
      "text/plain": [
       "<Figure size 1000x600 with 1 Axes>"
      ]
     },
     "metadata": {},
     "output_type": "display_data"
    }
   ],
   "source": [
    "# Calculate the percentage of missing values for each column\n",
    "missing_percentage = df.isnull().mean() * 100\n",
    "\n",
    "# Filter out columns with no missing values\n",
    "missing_percentage = missing_percentage[missing_percentage > 0]\n",
    "\n",
    "# Plotting\n",
    "plt.figure(figsize=(10, 6))\n",
    "missing_percentage.sort_values().plot(kind='barh', color='orange')\n",
    "\n",
    "# Adding titles and labels\n",
    "plt.title('Percentage of Missing Data in Each Column', fontsize=16)\n",
    "plt.xlabel('Percentage of Missing Values (%)', fontsize=14)\n",
    "plt.ylabel('Columns', fontsize=14)\n",
    "\n",
    "# Show the plot\n",
    "plt.show()"
   ]
  },
  {
   "cell_type": "code",
   "execution_count": 12,
   "metadata": {},
   "outputs": [
    {
     "data": {
      "text/html": [
       "<div>\n",
       "<style scoped>\n",
       "    .dataframe tbody tr th:only-of-type {\n",
       "        vertical-align: middle;\n",
       "    }\n",
       "\n",
       "    .dataframe tbody tr th {\n",
       "        vertical-align: top;\n",
       "    }\n",
       "\n",
       "    .dataframe thead th {\n",
       "        text-align: right;\n",
       "    }\n",
       "</style>\n",
       "<table border=\"1\" class=\"dataframe\">\n",
       "  <thead>\n",
       "    <tr style=\"text-align: right;\">\n",
       "      <th></th>\n",
       "      <th>Lng</th>\n",
       "      <th>Lat</th>\n",
       "      <th>DOM</th>\n",
       "      <th>followers</th>\n",
       "      <th>totalPrice</th>\n",
       "      <th>price</th>\n",
       "      <th>square</th>\n",
       "      <th>kitchen</th>\n",
       "      <th>buildingType</th>\n",
       "      <th>renovationCondition</th>\n",
       "      <th>buildingStructure</th>\n",
       "      <th>ladderRatio</th>\n",
       "      <th>elevator</th>\n",
       "      <th>fiveYearsProperty</th>\n",
       "      <th>subway</th>\n",
       "      <th>district</th>\n",
       "      <th>communityAverage</th>\n",
       "    </tr>\n",
       "  </thead>\n",
       "  <tbody>\n",
       "    <tr>\n",
       "      <th>count</th>\n",
       "      <td>318851.000000</td>\n",
       "      <td>318851.000000</td>\n",
       "      <td>160874.000000</td>\n",
       "      <td>318851.000000</td>\n",
       "      <td>318851.000000</td>\n",
       "      <td>318851.000000</td>\n",
       "      <td>318851.000000</td>\n",
       "      <td>318851.000000</td>\n",
       "      <td>316830.000000</td>\n",
       "      <td>318851.000000</td>\n",
       "      <td>318851.000000</td>\n",
       "      <td>3.188510e+05</td>\n",
       "      <td>318819.000000</td>\n",
       "      <td>318819.000000</td>\n",
       "      <td>318819.000000</td>\n",
       "      <td>318851.000000</td>\n",
       "      <td>318388.000000</td>\n",
       "    </tr>\n",
       "    <tr>\n",
       "      <th>mean</th>\n",
       "      <td>116.418459</td>\n",
       "      <td>39.949591</td>\n",
       "      <td>28.822339</td>\n",
       "      <td>16.731508</td>\n",
       "      <td>349.030201</td>\n",
       "      <td>43530.436379</td>\n",
       "      <td>83.240597</td>\n",
       "      <td>0.994599</td>\n",
       "      <td>3.009790</td>\n",
       "      <td>2.606330</td>\n",
       "      <td>4.451026</td>\n",
       "      <td>6.316486e+01</td>\n",
       "      <td>0.577055</td>\n",
       "      <td>0.645601</td>\n",
       "      <td>0.601112</td>\n",
       "      <td>6.763564</td>\n",
       "      <td>63682.446305</td>\n",
       "    </tr>\n",
       "    <tr>\n",
       "      <th>std</th>\n",
       "      <td>0.112054</td>\n",
       "      <td>0.091983</td>\n",
       "      <td>50.237343</td>\n",
       "      <td>34.209185</td>\n",
       "      <td>230.780778</td>\n",
       "      <td>21709.024204</td>\n",
       "      <td>37.234661</td>\n",
       "      <td>0.109609</td>\n",
       "      <td>1.269857</td>\n",
       "      <td>1.311739</td>\n",
       "      <td>1.901753</td>\n",
       "      <td>2.506851e+04</td>\n",
       "      <td>0.494028</td>\n",
       "      <td>0.478331</td>\n",
       "      <td>0.489670</td>\n",
       "      <td>2.812616</td>\n",
       "      <td>22329.215447</td>\n",
       "    </tr>\n",
       "    <tr>\n",
       "      <th>min</th>\n",
       "      <td>116.072514</td>\n",
       "      <td>39.627030</td>\n",
       "      <td>1.000000</td>\n",
       "      <td>0.000000</td>\n",
       "      <td>0.100000</td>\n",
       "      <td>1.000000</td>\n",
       "      <td>6.900000</td>\n",
       "      <td>0.000000</td>\n",
       "      <td>0.048000</td>\n",
       "      <td>0.000000</td>\n",
       "      <td>0.000000</td>\n",
       "      <td>0.000000e+00</td>\n",
       "      <td>0.000000</td>\n",
       "      <td>0.000000</td>\n",
       "      <td>0.000000</td>\n",
       "      <td>1.000000</td>\n",
       "      <td>10847.000000</td>\n",
       "    </tr>\n",
       "    <tr>\n",
       "      <th>25%</th>\n",
       "      <td>116.344985</td>\n",
       "      <td>39.893200</td>\n",
       "      <td>1.000000</td>\n",
       "      <td>0.000000</td>\n",
       "      <td>205.000000</td>\n",
       "      <td>28050.000000</td>\n",
       "      <td>57.900000</td>\n",
       "      <td>1.000000</td>\n",
       "      <td>1.000000</td>\n",
       "      <td>1.000000</td>\n",
       "      <td>2.000000</td>\n",
       "      <td>2.500000e-01</td>\n",
       "      <td>0.000000</td>\n",
       "      <td>0.000000</td>\n",
       "      <td>0.000000</td>\n",
       "      <td>6.000000</td>\n",
       "      <td>46339.000000</td>\n",
       "    </tr>\n",
       "    <tr>\n",
       "      <th>50%</th>\n",
       "      <td>116.416780</td>\n",
       "      <td>39.934527</td>\n",
       "      <td>6.000000</td>\n",
       "      <td>5.000000</td>\n",
       "      <td>294.000000</td>\n",
       "      <td>38737.000000</td>\n",
       "      <td>74.260000</td>\n",
       "      <td>1.000000</td>\n",
       "      <td>4.000000</td>\n",
       "      <td>3.000000</td>\n",
       "      <td>6.000000</td>\n",
       "      <td>3.330000e-01</td>\n",
       "      <td>1.000000</td>\n",
       "      <td>1.000000</td>\n",
       "      <td>1.000000</td>\n",
       "      <td>7.000000</td>\n",
       "      <td>59015.000000</td>\n",
       "    </tr>\n",
       "    <tr>\n",
       "      <th>75%</th>\n",
       "      <td>116.477581</td>\n",
       "      <td>40.003018</td>\n",
       "      <td>37.000000</td>\n",
       "      <td>18.000000</td>\n",
       "      <td>425.500000</td>\n",
       "      <td>53819.500000</td>\n",
       "      <td>98.710000</td>\n",
       "      <td>1.000000</td>\n",
       "      <td>4.000000</td>\n",
       "      <td>4.000000</td>\n",
       "      <td>6.000000</td>\n",
       "      <td>5.000000e-01</td>\n",
       "      <td>1.000000</td>\n",
       "      <td>1.000000</td>\n",
       "      <td>1.000000</td>\n",
       "      <td>8.000000</td>\n",
       "      <td>75950.000000</td>\n",
       "    </tr>\n",
       "    <tr>\n",
       "      <th>max</th>\n",
       "      <td>116.732378</td>\n",
       "      <td>40.252758</td>\n",
       "      <td>1677.000000</td>\n",
       "      <td>1143.000000</td>\n",
       "      <td>18130.000000</td>\n",
       "      <td>156250.000000</td>\n",
       "      <td>1745.500000</td>\n",
       "      <td>4.000000</td>\n",
       "      <td>4.000000</td>\n",
       "      <td>4.000000</td>\n",
       "      <td>6.000000</td>\n",
       "      <td>1.000940e+07</td>\n",
       "      <td>1.000000</td>\n",
       "      <td>1.000000</td>\n",
       "      <td>1.000000</td>\n",
       "      <td>13.000000</td>\n",
       "      <td>183109.000000</td>\n",
       "    </tr>\n",
       "  </tbody>\n",
       "</table>\n",
       "</div>"
      ],
      "text/plain": [
       "                 Lng            Lat            DOM      followers  \\\n",
       "count  318851.000000  318851.000000  160874.000000  318851.000000   \n",
       "mean      116.418459      39.949591      28.822339      16.731508   \n",
       "std         0.112054       0.091983      50.237343      34.209185   \n",
       "min       116.072514      39.627030       1.000000       0.000000   \n",
       "25%       116.344985      39.893200       1.000000       0.000000   \n",
       "50%       116.416780      39.934527       6.000000       5.000000   \n",
       "75%       116.477581      40.003018      37.000000      18.000000   \n",
       "max       116.732378      40.252758    1677.000000    1143.000000   \n",
       "\n",
       "          totalPrice          price         square        kitchen  \\\n",
       "count  318851.000000  318851.000000  318851.000000  318851.000000   \n",
       "mean      349.030201   43530.436379      83.240597       0.994599   \n",
       "std       230.780778   21709.024204      37.234661       0.109609   \n",
       "min         0.100000       1.000000       6.900000       0.000000   \n",
       "25%       205.000000   28050.000000      57.900000       1.000000   \n",
       "50%       294.000000   38737.000000      74.260000       1.000000   \n",
       "75%       425.500000   53819.500000      98.710000       1.000000   \n",
       "max     18130.000000  156250.000000    1745.500000       4.000000   \n",
       "\n",
       "        buildingType  renovationCondition  buildingStructure   ladderRatio  \\\n",
       "count  316830.000000        318851.000000      318851.000000  3.188510e+05   \n",
       "mean        3.009790             2.606330           4.451026  6.316486e+01   \n",
       "std         1.269857             1.311739           1.901753  2.506851e+04   \n",
       "min         0.048000             0.000000           0.000000  0.000000e+00   \n",
       "25%         1.000000             1.000000           2.000000  2.500000e-01   \n",
       "50%         4.000000             3.000000           6.000000  3.330000e-01   \n",
       "75%         4.000000             4.000000           6.000000  5.000000e-01   \n",
       "max         4.000000             4.000000           6.000000  1.000940e+07   \n",
       "\n",
       "            elevator  fiveYearsProperty         subway       district  \\\n",
       "count  318819.000000      318819.000000  318819.000000  318851.000000   \n",
       "mean        0.577055           0.645601       0.601112       6.763564   \n",
       "std         0.494028           0.478331       0.489670       2.812616   \n",
       "min         0.000000           0.000000       0.000000       1.000000   \n",
       "25%         0.000000           0.000000       0.000000       6.000000   \n",
       "50%         1.000000           1.000000       1.000000       7.000000   \n",
       "75%         1.000000           1.000000       1.000000       8.000000   \n",
       "max         1.000000           1.000000       1.000000      13.000000   \n",
       "\n",
       "       communityAverage  \n",
       "count     318388.000000  \n",
       "mean       63682.446305  \n",
       "std        22329.215447  \n",
       "min        10847.000000  \n",
       "25%        46339.000000  \n",
       "50%        59015.000000  \n",
       "75%        75950.000000  \n",
       "max       183109.000000  "
      ]
     },
     "execution_count": 12,
     "metadata": {},
     "output_type": "execute_result"
    }
   ],
   "source": [
    "df.describe()"
   ]
  },
  {
   "cell_type": "code",
   "execution_count": 13,
   "metadata": {},
   "outputs": [
    {
     "data": {
      "image/png": "[encoded data removed]",
      "text/plain": [
       "<Figure size 1000x600 with 1 Axes>"
      ]
     },
     "metadata": {},
     "output_type": "display_data"
    }
   ],
   "source": [
    "# Set the style of seaborn\n",
    "sns.set_theme(style=\"whitegrid\")\n",
    "\n",
    "# Plotting the distribution of 'DOM'\n",
    "plt.figure(figsize=(10, 6))\n",
    "sns.histplot(df['DOM'], bins=30, kde=True, color='blue', stat='density')\n",
    "\n",
    "# Adding titles and labels\n",
    "plt.title('Distribution of Days on Market (DOM)', fontsize=16)\n",
    "plt.xlabel('Days on Market (DOM)', fontsize=14)\n",
    "plt.ylabel('Density', fontsize=14)\n",
    "\n",
    "# Show the plot\n",
    "plt.show()"
   ]
  },
  {
   "cell_type": "markdown",
   "metadata": {},
   "source": [
    "## Impute the DOM column with median since it is positively skewed. Do not remove the column because DOM has a high influence on property price"
   ]
  },
  {
   "cell_type": "code",
   "execution_count": 17,
   "metadata": {},
   "outputs": [],
   "source": [
    "median_dom = df['DOM'].median()\n",
    "\n",
    "# Impute missing values with the median\n",
    "df['DOM'] = df['DOM'].fillna(median_dom)"
   ]
  },
  {
   "cell_type": "code",
   "execution_count": 19,
   "metadata": {},
   "outputs": [
    {
     "data": {
      "image/png": "[encoded data removed]",
      "text/plain": [
       "<Figure size 1000x600 with 1 Axes>"
      ]
     },
     "metadata": {},
     "output_type": "display_data"
    }
   ],
   "source": [
    "# Calculate the percentage of missing values for each column\n",
    "missing_percentage = df.isnull().mean() * 100\n",
    "\n",
    "# Filter out columns with no missing values\n",
    "missing_percentage = missing_percentage[missing_percentage > 0]\n",
    "\n",
    "# Plotting\n",
    "plt.figure(figsize=(10, 6))\n",
    "missing_percentage.sort_values().plot(kind='barh', color='orange')\n",
    "\n",
    "# Adding titles and labels\n",
    "plt.title('Percentage of Missing Data in Each Column', fontsize=16)\n",
    "plt.xlabel('Percentage of Missing Values (%)', fontsize=14)\n",
    "plt.ylabel('Columns', fontsize=14)\n",
    "\n",
    "# Show the plot\n",
    "plt.show()"
   ]
  },
  {
   "cell_type": "markdown",
   "metadata": {},
   "source": [
    "Remaining top columns with missing values have around 0.6% and 0.1% mssing values, which is rather insignificant. Therefore, removing those observations"
   ]
  },
  {
   "cell_type": "code",
   "execution_count": 20,
   "metadata": {},
   "outputs": [],
   "source": [
    "df = df.dropna()"
   ]
  },
  {
   "cell_type": "code",
   "execution_count": 22,
   "metadata": {},
   "outputs": [
    {
     "data": {
      "text/plain": [
       "(316448, 23)"
      ]
     },
     "execution_count": 22,
     "metadata": {},
     "output_type": "execute_result"
    }
   ],
   "source": [
    "df.shape"
   ]
  },
  {
   "cell_type": "code",
   "execution_count": 26,
   "metadata": {},
   "outputs": [
    {
     "data": {
      "text/plain": [
       "array([1., 4., 3., 2.])"
      ]
     },
     "execution_count": 26,
     "metadata": {},
     "output_type": "execute_result"
    }
   ],
   "source": [
    "df['buildingType'].unique()"
   ]
  },
  {
   "cell_type": "code",
   "execution_count": 27,
   "metadata": {},
   "outputs": [
    {
     "name": "stdout",
     "output_type": "stream",
     "text": [
      "<class 'pandas.core.frame.DataFrame'>\n",
      "Index: 316448 entries, 0 to 318850\n",
      "Data columns (total 23 columns):\n",
      " #   Column               Non-Null Count   Dtype  \n",
      "---  ------               --------------   -----  \n",
      " 0   Lng                  316448 non-null  float64\n",
      " 1   Lat                  316448 non-null  float64\n",
      " 2   tradeTime            316448 non-null  object \n",
      " 3   DOM                  316448 non-null  float64\n",
      " 4   followers            316448 non-null  int64  \n",
      " 5   totalPrice           316448 non-null  float64\n",
      " 6   price                316448 non-null  int64  \n",
      " 7   square               316448 non-null  float64\n",
      " 8   livingRoom           316448 non-null  object \n",
      " 9   drawingRoom          316448 non-null  object \n",
      " 10  kitchen              316448 non-null  int64  \n",
      " 11  bathRoom             316448 non-null  object \n",
      " 12  floor                316448 non-null  object \n",
      " 13  buildingType         316448 non-null  float64\n",
      " 14  constructionTime     316448 non-null  object \n",
      " 15  renovationCondition  316448 non-null  int64  \n",
      " 16  buildingStructure    316448 non-null  int64  \n",
      " 17  ladderRatio          316448 non-null  float64\n",
      " 18  elevator             316448 non-null  float64\n",
      " 19  fiveYearsProperty    316448 non-null  float64\n",
      " 20  subway               316448 non-null  float64\n",
      " 21  district             316448 non-null  int64  \n",
      " 22  communityAverage     316448 non-null  float64\n",
      "dtypes: float64(11), int64(6), object(6)\n",
      "memory usage: 57.9+ MB\n"
     ]
    }
   ],
   "source": [
    "df.info()"
   ]
  },
  {
   "cell_type": "code",
   "execution_count": 30,
   "metadata": {},
   "outputs": [
    {
     "data": {
      "text/plain": [
       "<DatetimeArray>\n",
       "['2016-08-09 00:00:00', '2016-07-28 00:00:00', '2016-12-11 00:00:00',\n",
       " '2016-09-30 00:00:00', '2016-08-28 00:00:00', '2016-07-22 00:00:00',\n",
       " '2016-07-14 00:00:00', '2016-09-07 00:00:00', '2016-09-04 00:00:00',\n",
       " '2016-09-05 00:00:00',\n",
       " ...\n",
       " '2011-06-03 00:00:00', '2011-08-08 00:00:00', '2011-03-28 00:00:00',\n",
       " '2013-02-13 00:00:00', '2011-06-01 00:00:00', '2011-02-16 00:00:00',\n",
       " '2013-02-11 00:00:00', '2012-01-28 00:00:00', '2011-01-30 00:00:00',\n",
       " '2009-01-11 00:00:00']\n",
       "Length: 2554, dtype: datetime64[ns]"
      ]
     },
     "execution_count": 30,
     "metadata": {},
     "output_type": "execute_result"
    }
   ],
   "source": [
    "df['tradeTime'].unique()"
   ]
  },
  {
   "cell_type": "code",
   "execution_count": 29,
   "metadata": {},
   "outputs": [
    {
     "name": "stderr",
     "output_type": "stream",
     "text": [
      "/var/folders/v6/dj9r3dn51mbbgl1x9whmvfpm0000gn/T/ipykernel_69167/2624662446.py:1: SettingWithCopyWarning: \n",
      "A value is trying to be set on a copy of a slice from a DataFrame.\n",
      "Try using .loc[row_indexer,col_indexer] = value instead\n",
      "\n",
      "See the caveats in the documentation: https://pandas.pydata.org/pandas-docs/stable/user_guide/indexing.html#returning-a-view-versus-a-copy\n",
      "  df['tradeTime'] = pd.to_datetime(df['tradeTime'])\n"
     ]
    }
   ],
   "source": [
    "df['tradeTime'] = pd.to_datetime(df['tradeTime'])"
   ]
  },
  {
   "cell_type": "code",
   "execution_count": 31,
   "metadata": {},
   "outputs": [
    {
     "name": "stderr",
     "output_type": "stream",
     "text": [
      "/var/folders/v6/dj9r3dn51mbbgl1x9whmvfpm0000gn/T/ipykernel_69167/4113432631.py:1: SettingWithCopyWarning: \n",
      "A value is trying to be set on a copy of a slice from a DataFrame.\n",
      "Try using .loc[row_indexer,col_indexer] = value instead\n",
      "\n",
      "See the caveats in the documentation: https://pandas.pydata.org/pandas-docs/stable/user_guide/indexing.html#returning-a-view-versus-a-copy\n",
      "  df['tradeTime_year'] = df['tradeTime'].dt.year\n",
      "/var/folders/v6/dj9r3dn51mbbgl1x9whmvfpm0000gn/T/ipykernel_69167/4113432631.py:2: SettingWithCopyWarning: \n",
      "A value is trying to be set on a copy of a slice from a DataFrame.\n",
      "Try using .loc[row_indexer,col_indexer] = value instead\n",
      "\n",
      "See the caveats in the documentation: https://pandas.pydata.org/pandas-docs/stable/user_guide/indexing.html#returning-a-view-versus-a-copy\n",
      "  df['tradeTime_month'] = df['tradeTime'].dt.month\n",
      "/var/folders/v6/dj9r3dn51mbbgl1x9whmvfpm0000gn/T/ipykernel_69167/4113432631.py:3: SettingWithCopyWarning: \n",
      "A value is trying to be set on a copy of a slice from a DataFrame.\n",
      "Try using .loc[row_indexer,col_indexer] = value instead\n",
      "\n",
      "See the caveats in the documentation: https://pandas.pydata.org/pandas-docs/stable/user_guide/indexing.html#returning-a-view-versus-a-copy\n",
      "  df['tradeTime_day'] = df['tradeTime'].dt.day\n"
     ]
    }
   ],
   "source": [
    "df['tradeTime_year'] = df['tradeTime'].dt.year\n",
    "df['tradeTime_month'] = df['tradeTime'].dt.month\n",
    "df['tradeTime_day'] = df['tradeTime'].dt.day"
   ]
  },
  {
   "cell_type": "code",
   "execution_count": 32,
   "metadata": {},
   "outputs": [
    {
     "name": "stdout",
     "output_type": "stream",
     "text": [
      "<class 'pandas.core.frame.DataFrame'>\n",
      "Index: 316448 entries, 0 to 318850\n",
      "Data columns (total 26 columns):\n",
      " #   Column               Non-Null Count   Dtype         \n",
      "---  ------               --------------   -----         \n",
      " 0   Lng                  316448 non-null  float64       \n",
      " 1   Lat                  316448 non-null  float64       \n",
      " 2   tradeTime            316448 non-null  datetime64[ns]\n",
      " 3   DOM                  316448 non-null  float64       \n",
      " 4   followers            316448 non-null  int64         \n",
      " 5   totalPrice           316448 non-null  float64       \n",
      " 6   price                316448 non-null  int64         \n",
      " 7   square               316448 non-null  float64       \n",
      " 8   livingRoom           316448 non-null  object        \n",
      " 9   drawingRoom          316448 non-null  object        \n",
      " 10  kitchen              316448 non-null  int64         \n",
      " 11  bathRoom             316448 non-null  object        \n",
      " 12  floor                316448 non-null  object        \n",
      " 13  buildingType         316448 non-null  float64       \n",
      " 14  constructionTime     316448 non-null  object        \n",
      " 15  renovationCondition  316448 non-null  int64         \n",
      " 16  buildingStructure    316448 non-null  int64         \n",
      " 17  ladderRatio          316448 non-null  float64       \n",
      " 18  elevator             316448 non-null  float64       \n",
      " 19  fiveYearsProperty    316448 non-null  float64       \n",
      " 20  subway               316448 non-null  float64       \n",
      " 21  district             316448 non-null  int64         \n",
      " 22  communityAverage     316448 non-null  float64       \n",
      " 23  tradeTime_year       316448 non-null  int32         \n",
      " 24  tradeTime_month      316448 non-null  int32         \n",
      " 25  tradeTime_day        316448 non-null  int32         \n",
      "dtypes: datetime64[ns](1), float64(11), int32(3), int64(6), object(5)\n",
      "memory usage: 61.6+ MB\n"
     ]
    }
   ],
   "source": [
    "df.info()"
   ]
  },
  {
   "cell_type": "code",
   "execution_count": 34,
   "metadata": {},
   "outputs": [],
   "source": [
    "df['tradeTime_ordinal'] = df['tradeTime'].apply(lambda x: x.toordinal())"
   ]
  },
  {
   "cell_type": "markdown",
   "metadata": {},
   "source": [
    "Cyclic Encoding for month to capture the cyclic pattern of months "
   ]
  },
  {
   "cell_type": "code",
   "execution_count": 37,
   "metadata": {},
   "outputs": [],
   "source": [
    "df['tradeTime_month_sin'] = np.sin(2 * np.pi * df['tradeTime_month'] / 12)\n",
    "df['tradeTime_month_cos'] = np.cos(2 * np.pi * df['tradeTime_month'] / 12)"
   ]
  },
  {
   "cell_type": "code",
   "execution_count": 38,
   "metadata": {},
   "outputs": [
    {
     "name": "stdout",
     "output_type": "stream",
     "text": [
      "<class 'pandas.core.frame.DataFrame'>\n",
      "Index: 316448 entries, 0 to 318850\n",
      "Data columns (total 29 columns):\n",
      " #   Column               Non-Null Count   Dtype         \n",
      "---  ------               --------------   -----         \n",
      " 0   Lng                  316448 non-null  float64       \n",
      " 1   Lat                  316448 non-null  float64       \n",
      " 2   tradeTime            316448 non-null  datetime64[ns]\n",
      " 3   DOM                  316448 non-null  float64       \n",
      " 4   followers            316448 non-null  int64         \n",
      " 5   totalPrice           316448 non-null  float64       \n",
      " 6   price                316448 non-null  int64         \n",
      " 7   square               316448 non-null  float64       \n",
      " 8   livingRoom           316448 non-null  object        \n",
      " 9   drawingRoom          316448 non-null  object        \n",
      " 10  kitchen              316448 non-null  int64         \n",
      " 11  bathRoom             316448 non-null  object        \n",
      " 12  floor                316448 non-null  object        \n",
      " 13  buildingType         316448 non-null  float64       \n",
      " 14  constructionTime     316448 non-null  object        \n",
      " 15  renovationCondition  316448 non-null  int64         \n",
      " 16  buildingStructure    316448 non-null  int64         \n",
      " 17  ladderRatio          316448 non-null  float64       \n",
      " 18  elevator             316448 non-null  float64       \n",
      " 19  fiveYearsProperty    316448 non-null  float64       \n",
      " 20  subway               316448 non-null  float64       \n",
      " 21  district             316448 non-null  int64         \n",
      " 22  communityAverage     316448 non-null  float64       \n",
      " 23  tradeTime_year       316448 non-null  int32         \n",
      " 24  tradeTime_month      316448 non-null  int32         \n",
      " 25  tradeTime_day        316448 non-null  int32         \n",
      " 26  tradeTime_ordinal    316448 non-null  int64         \n",
      " 27  tradeTime_month_sin  316448 non-null  float64       \n",
      " 28  tradeTime_month_cos  316448 non-null  float64       \n",
      "dtypes: datetime64[ns](1), float64(13), int32(3), int64(7), object(5)\n",
      "memory usage: 68.8+ MB\n"
     ]
    }
   ],
   "source": [
    "df.info()"
   ]
  },
  {
   "cell_type": "code",
   "execution_count": 44,
   "metadata": {},
   "outputs": [
    {
     "data": {
      "text/html": [
       "<div>\n",
       "<style scoped>\n",
       "    .dataframe tbody tr th:only-of-type {\n",
       "        vertical-align: middle;\n",
       "    }\n",
       "\n",
       "    .dataframe tbody tr th {\n",
       "        vertical-align: top;\n",
       "    }\n",
       "\n",
       "    .dataframe thead th {\n",
       "        text-align: right;\n",
       "    }\n",
       "</style>\n",
       "<table border=\"1\" class=\"dataframe\">\n",
       "  <thead>\n",
       "    <tr style=\"text-align: right;\">\n",
       "      <th></th>\n",
       "      <th>tradeTime_month</th>\n",
       "      <th>tradeTime_month_sin</th>\n",
       "      <th>tradeTime_month_cos</th>\n",
       "    </tr>\n",
       "  </thead>\n",
       "  <tbody>\n",
       "    <tr>\n",
       "      <th>0</th>\n",
       "      <td>8</td>\n",
       "      <td>-8.660254e-01</td>\n",
       "      <td>-5.000000e-01</td>\n",
       "    </tr>\n",
       "    <tr>\n",
       "      <th>1</th>\n",
       "      <td>7</td>\n",
       "      <td>-5.000000e-01</td>\n",
       "      <td>-8.660254e-01</td>\n",
       "    </tr>\n",
       "    <tr>\n",
       "      <th>2</th>\n",
       "      <td>12</td>\n",
       "      <td>-2.449294e-16</td>\n",
       "      <td>1.000000e+00</td>\n",
       "    </tr>\n",
       "    <tr>\n",
       "      <th>3</th>\n",
       "      <td>9</td>\n",
       "      <td>-1.000000e+00</td>\n",
       "      <td>-1.836970e-16</td>\n",
       "    </tr>\n",
       "    <tr>\n",
       "      <th>4</th>\n",
       "      <td>8</td>\n",
       "      <td>-8.660254e-01</td>\n",
       "      <td>-5.000000e-01</td>\n",
       "    </tr>\n",
       "    <tr>\n",
       "      <th>5</th>\n",
       "      <td>7</td>\n",
       "      <td>-5.000000e-01</td>\n",
       "      <td>-8.660254e-01</td>\n",
       "    </tr>\n",
       "    <tr>\n",
       "      <th>6</th>\n",
       "      <td>7</td>\n",
       "      <td>-5.000000e-01</td>\n",
       "      <td>-8.660254e-01</td>\n",
       "    </tr>\n",
       "    <tr>\n",
       "      <th>7</th>\n",
       "      <td>9</td>\n",
       "      <td>-1.000000e+00</td>\n",
       "      <td>-1.836970e-16</td>\n",
       "    </tr>\n",
       "    <tr>\n",
       "      <th>8</th>\n",
       "      <td>9</td>\n",
       "      <td>-1.000000e+00</td>\n",
       "      <td>-1.836970e-16</td>\n",
       "    </tr>\n",
       "    <tr>\n",
       "      <th>9</th>\n",
       "      <td>9</td>\n",
       "      <td>-1.000000e+00</td>\n",
       "      <td>-1.836970e-16</td>\n",
       "    </tr>\n",
       "    <tr>\n",
       "      <th>11</th>\n",
       "      <td>8</td>\n",
       "      <td>-8.660254e-01</td>\n",
       "      <td>-5.000000e-01</td>\n",
       "    </tr>\n",
       "    <tr>\n",
       "      <th>13</th>\n",
       "      <td>8</td>\n",
       "      <td>-8.660254e-01</td>\n",
       "      <td>-5.000000e-01</td>\n",
       "    </tr>\n",
       "    <tr>\n",
       "      <th>14</th>\n",
       "      <td>6</td>\n",
       "      <td>1.224647e-16</td>\n",
       "      <td>-1.000000e+00</td>\n",
       "    </tr>\n",
       "    <tr>\n",
       "      <th>15</th>\n",
       "      <td>9</td>\n",
       "      <td>-1.000000e+00</td>\n",
       "      <td>-1.836970e-16</td>\n",
       "    </tr>\n",
       "    <tr>\n",
       "      <th>16</th>\n",
       "      <td>7</td>\n",
       "      <td>-5.000000e-01</td>\n",
       "      <td>-8.660254e-01</td>\n",
       "    </tr>\n",
       "    <tr>\n",
       "      <th>17</th>\n",
       "      <td>9</td>\n",
       "      <td>-1.000000e+00</td>\n",
       "      <td>-1.836970e-16</td>\n",
       "    </tr>\n",
       "    <tr>\n",
       "      <th>18</th>\n",
       "      <td>6</td>\n",
       "      <td>1.224647e-16</td>\n",
       "      <td>-1.000000e+00</td>\n",
       "    </tr>\n",
       "    <tr>\n",
       "      <th>19</th>\n",
       "      <td>8</td>\n",
       "      <td>-8.660254e-01</td>\n",
       "      <td>-5.000000e-01</td>\n",
       "    </tr>\n",
       "    <tr>\n",
       "      <th>20</th>\n",
       "      <td>7</td>\n",
       "      <td>-5.000000e-01</td>\n",
       "      <td>-8.660254e-01</td>\n",
       "    </tr>\n",
       "    <tr>\n",
       "      <th>21</th>\n",
       "      <td>7</td>\n",
       "      <td>-5.000000e-01</td>\n",
       "      <td>-8.660254e-01</td>\n",
       "    </tr>\n",
       "  </tbody>\n",
       "</table>\n",
       "</div>"
      ],
      "text/plain": [
       "    tradeTime_month  tradeTime_month_sin  tradeTime_month_cos\n",
       "0                 8        -8.660254e-01        -5.000000e-01\n",
       "1                 7        -5.000000e-01        -8.660254e-01\n",
       "2                12        -2.449294e-16         1.000000e+00\n",
       "3                 9        -1.000000e+00        -1.836970e-16\n",
       "4                 8        -8.660254e-01        -5.000000e-01\n",
       "5                 7        -5.000000e-01        -8.660254e-01\n",
       "6                 7        -5.000000e-01        -8.660254e-01\n",
       "7                 9        -1.000000e+00        -1.836970e-16\n",
       "8                 9        -1.000000e+00        -1.836970e-16\n",
       "9                 9        -1.000000e+00        -1.836970e-16\n",
       "11                8        -8.660254e-01        -5.000000e-01\n",
       "13                8        -8.660254e-01        -5.000000e-01\n",
       "14                6         1.224647e-16        -1.000000e+00\n",
       "15                9        -1.000000e+00        -1.836970e-16\n",
       "16                7        -5.000000e-01        -8.660254e-01\n",
       "17                9        -1.000000e+00        -1.836970e-16\n",
       "18                6         1.224647e-16        -1.000000e+00\n",
       "19                8        -8.660254e-01        -5.000000e-01\n",
       "20                7        -5.000000e-01        -8.660254e-01\n",
       "21                7        -5.000000e-01        -8.660254e-01"
      ]
     },
     "execution_count": 44,
     "metadata": {},
     "output_type": "execute_result"
    }
   ],
   "source": [
    "df[['tradeTime_month', 'tradeTime_month_sin', 'tradeTime_month_cos']].head(20)"
   ]
  },
  {
   "cell_type": "code",
   "execution_count": 47,
   "metadata": {},
   "outputs": [
    {
     "data": {
      "text/plain": [
       "array([2, 3, 1, 4, 5, 6, 0, 7, '1', '4', '3', '2', '7', '5', '0', '6',\n",
       "       '8'], dtype=object)"
      ]
     },
     "execution_count": 47,
     "metadata": {},
     "output_type": "execute_result"
    }
   ],
   "source": [
    "df['livingRoom'].unique()"
   ]
  },
  {
   "cell_type": "code",
   "execution_count": 51,
   "metadata": {},
   "outputs": [],
   "source": [
    "df['livingRoom'] = df['livingRoom'].astype(float)"
   ]
  },
  {
   "cell_type": "code",
   "execution_count": 52,
   "metadata": {},
   "outputs": [
    {
     "name": "stdout",
     "output_type": "stream",
     "text": [
      "<class 'pandas.core.series.Series'>\n",
      "Index: 316448 entries, 0 to 318850\n",
      "Series name: livingRoom\n",
      "Non-Null Count   Dtype  \n",
      "--------------   -----  \n",
      "316448 non-null  float64\n",
      "dtypes: float64(1)\n",
      "memory usage: 4.8 MB\n"
     ]
    }
   ],
   "source": [
    "df['livingRoom'].info()"
   ]
  },
  {
   "cell_type": "code",
   "execution_count": 53,
   "metadata": {},
   "outputs": [
    {
     "data": {
      "text/plain": [
       "array([1, 2, 0, 4, 3, '0', '1', '2', '3', '4', 5], dtype=object)"
      ]
     },
     "execution_count": 53,
     "metadata": {},
     "output_type": "execute_result"
    }
   ],
   "source": [
    "df['drawingRoom'].unique()"
   ]
  },
  {
   "cell_type": "code",
   "execution_count": 54,
   "metadata": {},
   "outputs": [],
   "source": [
    "df['drawingRoom'] = df['drawingRoom'].astype(float)"
   ]
  },
  {
   "cell_type": "code",
   "execution_count": 55,
   "metadata": {},
   "outputs": [
    {
     "name": "stdout",
     "output_type": "stream",
     "text": [
      "<class 'pandas.core.series.Series'>\n",
      "Index: 316448 entries, 0 to 318850\n",
      "Series name: drawingRoom\n",
      "Non-Null Count   Dtype  \n",
      "--------------   -----  \n",
      "316448 non-null  float64\n",
      "dtypes: float64(1)\n",
      "memory usage: 4.8 MB\n"
     ]
    }
   ],
   "source": [
    "df['drawingRoom'].info()"
   ]
  },
  {
   "cell_type": "code",
   "execution_count": 57,
   "metadata": {},
   "outputs": [
    {
     "data": {
      "text/plain": [
       "array([1, 2, 3, 0, 4, 5, 6, '1', '2', '0', '3', '4', '5', '7'],\n",
       "      dtype=object)"
      ]
     },
     "execution_count": 57,
     "metadata": {},
     "output_type": "execute_result"
    }
   ],
   "source": [
    "df['bathRoom'].unique()"
   ]
  },
  {
   "cell_type": "code",
   "execution_count": 58,
   "metadata": {},
   "outputs": [],
   "source": [
    "df['bathRoom'] = df['bathRoom'].astype(float)"
   ]
  },
  {
   "cell_type": "code",
   "execution_count": 59,
   "metadata": {},
   "outputs": [
    {
     "name": "stdout",
     "output_type": "stream",
     "text": [
      "<class 'pandas.core.series.Series'>\n",
      "Index: 316448 entries, 0 to 318850\n",
      "Series name: bathRoom\n",
      "Non-Null Count   Dtype  \n",
      "--------------   -----  \n",
      "316448 non-null  float64\n",
      "dtypes: float64(1)\n",
      "memory usage: 4.8 MB\n"
     ]
    }
   ],
   "source": [
    "df['bathRoom'].info()"
   ]
  },
  {
   "cell_type": "code",
   "execution_count": 60,
   "metadata": {},
   "outputs": [
    {
     "data": {
      "text/plain": [
       "array(['高 26', '高 22', '中 4', '底 21', '中 6', '中 8', '高 6', '高 10', '中 23',\n",
       "       '底 11', '高 24', '低 23', '中 19', '高 18', '低 25', '中 12', '中 14',\n",
       "       '中 30', '中 27', '中 5', '低 18', '底 28', '中 11', '低 9', '顶 7',\n",
       "       '顶 27', '低 6', '中 17', '顶 6', '中 24', '中 15', '底 5', '中 29',\n",
       "       '顶 19', '顶 5', '中 9', '低 22', '顶 18', '低 16', '高 13', '高 9',\n",
       "       '高 17', '底 6', '中 28', '低 26', '底 15', '高 16', '低 7', '中 13',\n",
       "       '低 33', '底 14', '高 15', '顶 11', '中 32', '顶 16', '底 18', '顶 17',\n",
       "       '低 14', '低 10', '底 20', '高 12', '低 31', '底 4', '底 2', '低 30',\n",
       "       '低 19', '低 12', '中 10', '中 16', '顶 20', '底 19', '中 31', '低 13',\n",
       "       '底 10', '高 25', '中 21', '中 20', '高 20', '低 21', '低 24', '顶 4',\n",
       "       '高 21', '高 7', '中 22', '中 7', '底 8', '顶 15', '中 18', '高 28',\n",
       "       '顶 14', '顶 13', '低 20', '底 26', '低 17', '顶 24', '底 23', '顶 21',\n",
       "       '底 24', '高 30', '高 11', '底 25', '高 27', '底 9', '低 11', '低 28',\n",
       "       '低 15', '顶 26', '低 34', '顶 12', '中 25', '底 17', '高 32', '高 8',\n",
       "       '顶 3', '高 19', '底 7', '顶 28', '顶 9', '高 31', '中 26', '顶 8', '底 32',\n",
       "       '中 42', '底 30', '低 32', '低 3', '底 22', '高 14', '高 23', '底 27',\n",
       "       '底 13', '低 27', '顶 23', '低 29', '顶 22', '高 29', '中 34', '底 3',\n",
       "       '顶 25', '高 34', '顶 10', '低 37', '底 16', '底 12', '未知 6', '顶 32',\n",
       "       '低 42', '顶 30', '底 33', '高 42', '低 8', '高 33', '中 33', '顶 2',\n",
       "       '顶 29', '底 1', '底 29', '未知 15', '高 37', '低 36', '低 35', '顶 34',\n",
       "       '高 36', '中 37', '中 35', '底 31', '未知 12', '顶 31', '低 63', '未知 21',\n",
       "       '底 34', '中 57', '顶 33', '未知 11', '未知 7', '未知 10', '未知 18', '未知 8',\n",
       "       '未知 14', '未知 4', '未知 5', '未知 3', '未知 27', '未知 25', '未知 20',\n",
       "       '未知 26', '未知 9', '未知 22', '未知 23', '未知 16', '未知 19', '未知 28',\n",
       "       '中 36', '未知 17', '未知 13', '低 2', '未知 29', '未知 24', '未知 30',\n",
       "       '未知 31', '低 5'], dtype=object)"
      ]
     },
     "execution_count": 60,
     "metadata": {},
     "output_type": "execute_result"
    }
   ],
   "source": [
    "df['floor'].unique()"
   ]
  },
  {
   "cell_type": "code",
   "execution_count": 61,
   "metadata": {},
   "outputs": [],
   "source": [
    "lst_numeric = []\n",
    "lst_str = []\n",
    "for value in df['floor'].values:\n",
    "    value = value.split()\n",
    "    try:\n",
    "        numeric = (value[1])\n",
    "        string  = value[0]\n",
    "    except:\n",
    "        numeric = np.nan\n",
    "        string = np.nan\n",
    "    lst_numeric.append(numeric)\n",
    "    lst_str.append(string)"
   ]
  },
  {
   "cell_type": "code",
   "execution_count": 68,
   "metadata": {},
   "outputs": [],
   "source": [
    "df.drop(['floorType', 'floorHeight'], axis=1, inplace=True)"
   ]
  },
  {
   "cell_type": "code",
   "execution_count": 69,
   "metadata": {},
   "outputs": [],
   "source": [
    "lst_str_eng=[]\n",
    "for string in lst_str:\n",
    "    if string == '中':\n",
    "        lst_str_eng.append(string.replace('中','2'))\n",
    "    elif string == '高':\n",
    "        lst_str_eng.append(string.replace('高','3'))\n",
    "    elif string == '底':\n",
    "        lst_str_eng.append(string.replace('底','0'))\n",
    "    elif string == '低':\n",
    "        lst_str_eng.append(string.replace('低','1'))\n",
    "    elif string == '未知':\n",
    "        lst_str_eng.append(string.replace('未知','5'))\n",
    "    elif string == '顶':\n",
    "        lst_str_eng.append(string.replace('顶','4'))"
   ]
  },
  {
   "cell_type": "code",
   "execution_count": 70,
   "metadata": {},
   "outputs": [],
   "source": [
    "df1 = pd.DataFrame(lst_str_eng,columns=['floorType'])\n",
    "df2 = pd.DataFrame(lst_numeric,columns=['floorHeight'])"
   ]
  },
  {
   "cell_type": "code",
   "execution_count": 71,
   "metadata": {},
   "outputs": [],
   "source": [
    "df = pd.concat([df,df1,df2],axis=1)"
   ]
  },
  {
   "cell_type": "code",
   "execution_count": 72,
   "metadata": {},
   "outputs": [
    {
     "name": "stdout",
     "output_type": "stream",
     "text": [
      "<class 'pandas.core.frame.DataFrame'>\n",
      "Index: 318809 entries, 0 to 316175\n",
      "Data columns (total 31 columns):\n",
      " #   Column               Non-Null Count   Dtype         \n",
      "---  ------               --------------   -----         \n",
      " 0   Lng                  316448 non-null  float64       \n",
      " 1   Lat                  316448 non-null  float64       \n",
      " 2   tradeTime            316448 non-null  datetime64[ns]\n",
      " 3   DOM                  316448 non-null  float64       \n",
      " 4   followers            316448 non-null  float64       \n",
      " 5   totalPrice           316448 non-null  float64       \n",
      " 6   price                316448 non-null  float64       \n",
      " 7   square               316448 non-null  float64       \n",
      " 8   livingRoom           316448 non-null  float64       \n",
      " 9   drawingRoom          316448 non-null  float64       \n",
      " 10  kitchen              316448 non-null  float64       \n",
      " 11  bathRoom             316448 non-null  float64       \n",
      " 12  floor                316448 non-null  object        \n",
      " 13  buildingType         316448 non-null  float64       \n",
      " 14  constructionTime     316448 non-null  object        \n",
      " 15  renovationCondition  316448 non-null  float64       \n",
      " 16  buildingStructure    316448 non-null  float64       \n",
      " 17  ladderRatio          316448 non-null  float64       \n",
      " 18  elevator             316448 non-null  float64       \n",
      " 19  fiveYearsProperty    316448 non-null  float64       \n",
      " 20  subway               316448 non-null  float64       \n",
      " 21  district             316448 non-null  float64       \n",
      " 22  communityAverage     316448 non-null  float64       \n",
      " 23  tradeTime_year       316448 non-null  float64       \n",
      " 24  tradeTime_month      316448 non-null  float64       \n",
      " 25  tradeTime_day        316448 non-null  float64       \n",
      " 26  tradeTime_ordinal    316448 non-null  float64       \n",
      " 27  tradeTime_month_sin  316448 non-null  float64       \n",
      " 28  tradeTime_month_cos  316448 non-null  float64       \n",
      " 29  floorType            316448 non-null  object        \n",
      " 30  floorHeight          316448 non-null  object        \n",
      "dtypes: datetime64[ns](1), float64(26), object(4)\n",
      "memory usage: 77.8+ MB\n"
     ]
    }
   ],
   "source": [
    "df.info()"
   ]
  },
  {
   "cell_type": "code",
   "execution_count": 73,
   "metadata": {},
   "outputs": [],
   "source": [
    "df['floorType'] = df['floorType'].astype(float)\n",
    "df['floorHeight'] = df['floorHeight'].astype(float)"
   ]
  },
  {
   "cell_type": "code",
   "execution_count": 74,
   "metadata": {},
   "outputs": [
    {
     "name": "stdout",
     "output_type": "stream",
     "text": [
      "<class 'pandas.core.frame.DataFrame'>\n",
      "Index: 318809 entries, 0 to 316175\n",
      "Data columns (total 31 columns):\n",
      " #   Column               Non-Null Count   Dtype         \n",
      "---  ------               --------------   -----         \n",
      " 0   Lng                  316448 non-null  float64       \n",
      " 1   Lat                  316448 non-null  float64       \n",
      " 2   tradeTime            316448 non-null  datetime64[ns]\n",
      " 3   DOM                  316448 non-null  float64       \n",
      " 4   followers            316448 non-null  float64       \n",
      " 5   totalPrice           316448 non-null  float64       \n",
      " 6   price                316448 non-null  float64       \n",
      " 7   square               316448 non-null  float64       \n",
      " 8   livingRoom           316448 non-null  float64       \n",
      " 9   drawingRoom          316448 non-null  float64       \n",
      " 10  kitchen              316448 non-null  float64       \n",
      " 11  bathRoom             316448 non-null  float64       \n",
      " 12  floor                316448 non-null  object        \n",
      " 13  buildingType         316448 non-null  float64       \n",
      " 14  constructionTime     316448 non-null  object        \n",
      " 15  renovationCondition  316448 non-null  float64       \n",
      " 16  buildingStructure    316448 non-null  float64       \n",
      " 17  ladderRatio          316448 non-null  float64       \n",
      " 18  elevator             316448 non-null  float64       \n",
      " 19  fiveYearsProperty    316448 non-null  float64       \n",
      " 20  subway               316448 non-null  float64       \n",
      " 21  district             316448 non-null  float64       \n",
      " 22  communityAverage     316448 non-null  float64       \n",
      " 23  tradeTime_year       316448 non-null  float64       \n",
      " 24  tradeTime_month      316448 non-null  float64       \n",
      " 25  tradeTime_day        316448 non-null  float64       \n",
      " 26  tradeTime_ordinal    316448 non-null  float64       \n",
      " 27  tradeTime_month_sin  316448 non-null  float64       \n",
      " 28  tradeTime_month_cos  316448 non-null  float64       \n",
      " 29  floorType            316448 non-null  float64       \n",
      " 30  floorHeight          316448 non-null  float64       \n",
      "dtypes: datetime64[ns](1), float64(28), object(2)\n",
      "memory usage: 77.8+ MB\n"
     ]
    }
   ],
   "source": [
    "df.info()"
   ]
  },
  {
   "cell_type": "code",
   "execution_count": 75,
   "metadata": {},
   "outputs": [],
   "source": [
    "df.drop(['floor'], axis=1, inplace=True)"
   ]
  },
  {
   "cell_type": "code",
   "execution_count": 76,
   "metadata": {},
   "outputs": [
    {
     "name": "stdout",
     "output_type": "stream",
     "text": [
      "<class 'pandas.core.frame.DataFrame'>\n",
      "Index: 318809 entries, 0 to 316175\n",
      "Data columns (total 30 columns):\n",
      " #   Column               Non-Null Count   Dtype         \n",
      "---  ------               --------------   -----         \n",
      " 0   Lng                  316448 non-null  float64       \n",
      " 1   Lat                  316448 non-null  float64       \n",
      " 2   tradeTime            316448 non-null  datetime64[ns]\n",
      " 3   DOM                  316448 non-null  float64       \n",
      " 4   followers            316448 non-null  float64       \n",
      " 5   totalPrice           316448 non-null  float64       \n",
      " 6   price                316448 non-null  float64       \n",
      " 7   square               316448 non-null  float64       \n",
      " 8   livingRoom           316448 non-null  float64       \n",
      " 9   drawingRoom          316448 non-null  float64       \n",
      " 10  kitchen              316448 non-null  float64       \n",
      " 11  bathRoom             316448 non-null  float64       \n",
      " 12  buildingType         316448 non-null  float64       \n",
      " 13  constructionTime     316448 non-null  object        \n",
      " 14  renovationCondition  316448 non-null  float64       \n",
      " 15  buildingStructure    316448 non-null  float64       \n",
      " 16  ladderRatio          316448 non-null  float64       \n",
      " 17  elevator             316448 non-null  float64       \n",
      " 18  fiveYearsProperty    316448 non-null  float64       \n",
      " 19  subway               316448 non-null  float64       \n",
      " 20  district             316448 non-null  float64       \n",
      " 21  communityAverage     316448 non-null  float64       \n",
      " 22  tradeTime_year       316448 non-null  float64       \n",
      " 23  tradeTime_month      316448 non-null  float64       \n",
      " 24  tradeTime_day        316448 non-null  float64       \n",
      " 25  tradeTime_ordinal    316448 non-null  float64       \n",
      " 26  tradeTime_month_sin  316448 non-null  float64       \n",
      " 27  tradeTime_month_cos  316448 non-null  float64       \n",
      " 28  floorType            316448 non-null  float64       \n",
      " 29  floorHeight          316448 non-null  float64       \n",
      "dtypes: datetime64[ns](1), float64(28), object(1)\n",
      "memory usage: 75.4+ MB\n"
     ]
    }
   ],
   "source": [
    "df.info()"
   ]
  },
  {
   "cell_type": "code",
   "execution_count": 77,
   "metadata": {},
   "outputs": [
    {
     "data": {
      "text/plain": [
       "array(['2005', '2004', '2008', '1960', '1997', '2009', '1991', '2001',\n",
       "       '1990', '2011', '2000', '1998', '2010', '1996', '1993', '2006',\n",
       "       '2002', '未知', '2012', '1989', '2003', '2007', '1994', '1984',\n",
       "       '1992', '2014', '1985', '1999', '1979', '1981', '1976', '1982',\n",
       "       '1975', '1983', '1986', '1995', '1965', '2013', '1988', '1987',\n",
       "       '2015', '1955', '1980', '1978', '1958', '1970', '1956', '1977',\n",
       "       '1964', '1963', '1967', '2016', '1974', '1973', '1959', '1954',\n",
       "       '1962', '1966', '1957', '1972', '1971', '1953', '1968', '1961',\n",
       "       '1950', '1952', '1969', nan], dtype=object)"
      ]
     },
     "execution_count": 77,
     "metadata": {},
     "output_type": "execute_result"
    }
   ],
   "source": [
    "df['constructionTime'].unique()"
   ]
  },
  {
   "cell_type": "code",
   "execution_count": 78,
   "metadata": {},
   "outputs": [
    {
     "data": {
      "text/plain": [
       "2361"
      ]
     },
     "execution_count": 78,
     "metadata": {},
     "output_type": "execute_result"
    }
   ],
   "source": [
    "df['constructionTime'].isna().sum()"
   ]
  },
  {
   "cell_type": "code",
   "execution_count": 79,
   "metadata": {},
   "outputs": [],
   "source": [
    "df = df.dropna()"
   ]
  },
  {
   "cell_type": "code",
   "execution_count": 80,
   "metadata": {},
   "outputs": [
    {
     "data": {
      "text/plain": [
       "0"
      ]
     },
     "execution_count": 80,
     "metadata": {},
     "output_type": "execute_result"
    }
   ],
   "source": [
    "df['constructionTime'].isna().sum()"
   ]
  },
  {
   "cell_type": "code",
   "execution_count": 84,
   "metadata": {},
   "outputs": [
    {
     "data": {
      "text/plain": [
       "constructionTime\n",
       "2004    20872\n",
       "2003    18982\n",
       "2005    18688\n",
       "未知      18545\n",
       "2006    14611\n",
       "        ...  \n",
       "1971        8\n",
       "1961        7\n",
       "1952        5\n",
       "1968        4\n",
       "1969        4\n",
       "Name: count, Length: 67, dtype: int64"
      ]
     },
     "execution_count": 84,
     "metadata": {},
     "output_type": "execute_result"
    }
   ],
   "source": [
    "df['constructionTime'].value_counts()"
   ]
  },
  {
   "cell_type": "code",
   "execution_count": 91,
   "metadata": {},
   "outputs": [],
   "source": [
    "df_ct = df[df['constructionTime'] != '未知']['constructionTime'].astype(float)"
   ]
  },
  {
   "cell_type": "code",
   "execution_count": 98,
   "metadata": {},
   "outputs": [
    {
     "data": {
      "text/plain": [
       "2001.0"
      ]
     },
     "execution_count": 98,
     "metadata": {},
     "output_type": "execute_result"
    }
   ],
   "source": [
    "df_ct.median()"
   ]
  },
  {
   "cell_type": "code",
   "execution_count": 99,
   "metadata": {},
   "outputs": [],
   "source": [
    "df['constructionTime'].replace({'未知': df_ct.median()}, inplace=True)"
   ]
  },
  {
   "cell_type": "code",
   "execution_count": 100,
   "metadata": {},
   "outputs": [
    {
     "data": {
      "text/plain": [
       "constructionTime\n",
       "2004      20872\n",
       "2003      18982\n",
       "2005      18688\n",
       "2001.0    18545\n",
       "2006      14611\n",
       "          ...  \n",
       "1971          8\n",
       "1961          7\n",
       "1952          5\n",
       "1968          4\n",
       "1969          4\n",
       "Name: count, Length: 67, dtype: int64"
      ]
     },
     "execution_count": 100,
     "metadata": {},
     "output_type": "execute_result"
    }
   ],
   "source": [
    "df['constructionTime'].value_counts()"
   ]
  },
  {
   "cell_type": "code",
   "execution_count": 101,
   "metadata": {},
   "outputs": [],
   "source": [
    "df['constructionTime'] = df['constructionTime'].astype(float)"
   ]
  },
  {
   "cell_type": "code",
   "execution_count": 102,
   "metadata": {},
   "outputs": [
    {
     "name": "stdout",
     "output_type": "stream",
     "text": [
      "<class 'pandas.core.frame.DataFrame'>\n",
      "Index: 314087 entries, 0 to 316447\n",
      "Data columns (total 30 columns):\n",
      " #   Column               Non-Null Count   Dtype         \n",
      "---  ------               --------------   -----         \n",
      " 0   Lng                  314087 non-null  float64       \n",
      " 1   Lat                  314087 non-null  float64       \n",
      " 2   tradeTime            314087 non-null  datetime64[ns]\n",
      " 3   DOM                  314087 non-null  float64       \n",
      " 4   followers            314087 non-null  float64       \n",
      " 5   totalPrice           314087 non-null  float64       \n",
      " 6   price                314087 non-null  float64       \n",
      " 7   square               314087 non-null  float64       \n",
      " 8   livingRoom           314087 non-null  float64       \n",
      " 9   drawingRoom          314087 non-null  float64       \n",
      " 10  kitchen              314087 non-null  float64       \n",
      " 11  bathRoom             314087 non-null  float64       \n",
      " 12  buildingType         314087 non-null  float64       \n",
      " 13  constructionTime     314087 non-null  float64       \n",
      " 14  renovationCondition  314087 non-null  float64       \n",
      " 15  buildingStructure    314087 non-null  float64       \n",
      " 16  ladderRatio          314087 non-null  float64       \n",
      " 17  elevator             314087 non-null  float64       \n",
      " 18  fiveYearsProperty    314087 non-null  float64       \n",
      " 19  subway               314087 non-null  float64       \n",
      " 20  district             314087 non-null  float64       \n",
      " 21  communityAverage     314087 non-null  float64       \n",
      " 22  tradeTime_year       314087 non-null  float64       \n",
      " 23  tradeTime_month      314087 non-null  float64       \n",
      " 24  tradeTime_day        314087 non-null  float64       \n",
      " 25  tradeTime_ordinal    314087 non-null  float64       \n",
      " 26  tradeTime_month_sin  314087 non-null  float64       \n",
      " 27  tradeTime_month_cos  314087 non-null  float64       \n",
      " 28  floorType            314087 non-null  float64       \n",
      " 29  floorHeight          314087 non-null  float64       \n",
      "dtypes: datetime64[ns](1), float64(29)\n",
      "memory usage: 74.3 MB\n"
     ]
    }
   ],
   "source": [
    "df.info()"
   ]
  },
  {
   "cell_type": "code",
   "execution_count": 103,
   "metadata": {},
   "outputs": [],
   "source": [
    "df.drop(['tradeTime'], axis=1, inplace=True)"
   ]
  },
  {
   "cell_type": "code",
   "execution_count": 104,
   "metadata": {},
   "outputs": [
    {
     "name": "stdout",
     "output_type": "stream",
     "text": [
      "<class 'pandas.core.frame.DataFrame'>\n",
      "Index: 314087 entries, 0 to 316447\n",
      "Data columns (total 29 columns):\n",
      " #   Column               Non-Null Count   Dtype  \n",
      "---  ------               --------------   -----  \n",
      " 0   Lng                  314087 non-null  float64\n",
      " 1   Lat                  314087 non-null  float64\n",
      " 2   DOM                  314087 non-null  float64\n",
      " 3   followers            314087 non-null  float64\n",
      " 4   totalPrice           314087 non-null  float64\n",
      " 5   price                314087 non-null  float64\n",
      " 6   square               314087 non-null  float64\n",
      " 7   livingRoom           314087 non-null  float64\n",
      " 8   drawingRoom          314087 non-null  float64\n",
      " 9   kitchen              314087 non-null  float64\n",
      " 10  bathRoom             314087 non-null  float64\n",
      " 11  buildingType         314087 non-null  float64\n",
      " 12  constructionTime     314087 non-null  float64\n",
      " 13  renovationCondition  314087 non-null  float64\n",
      " 14  buildingStructure    314087 non-null  float64\n",
      " 15  ladderRatio          314087 non-null  float64\n",
      " 16  elevator             314087 non-null  float64\n",
      " 17  fiveYearsProperty    314087 non-null  float64\n",
      " 18  subway               314087 non-null  float64\n",
      " 19  district             314087 non-null  float64\n",
      " 20  communityAverage     314087 non-null  float64\n",
      " 21  tradeTime_year       314087 non-null  float64\n",
      " 22  tradeTime_month      314087 non-null  float64\n",
      " 23  tradeTime_day        314087 non-null  float64\n",
      " 24  tradeTime_ordinal    314087 non-null  float64\n",
      " 25  tradeTime_month_sin  314087 non-null  float64\n",
      " 26  tradeTime_month_cos  314087 non-null  float64\n",
      " 27  floorType            314087 non-null  float64\n",
      " 28  floorHeight          314087 non-null  float64\n",
      "dtypes: float64(29)\n",
      "memory usage: 71.9 MB\n"
     ]
    }
   ],
   "source": [
    "df.info()"
   ]
  },
  {
   "cell_type": "code",
   "execution_count": 107,
   "metadata": {},
   "outputs": [
    {
     "data": {
      "image/png": "[encoded data removed]",
      "text/plain": [
       "<Figure size 1000x600 with 1 Axes>"
      ]
     },
     "metadata": {},
     "output_type": "display_data"
    }
   ],
   "source": [
    "# Set the style of seaborn\n",
    "sns.set_theme(style=\"whitegrid\")\n",
    "\n",
    "# Plotting the distribution of 'price'\n",
    "plt.figure(figsize=(10, 6))\n",
    "sns.histplot(df['price'], bins=30, kde=True, color='blue', stat='density')\n",
    "\n",
    "# Adding titles and labels\n",
    "plt.title('Distribution of Price', fontsize=16)\n",
    "plt.xlabel('Price', fontsize=14)\n",
    "plt.ylabel('Density', fontsize=14)\n",
    "\n",
    "# Show the plot\n",
    "plt.show()"
   ]
  },
  {
   "cell_type": "code",
   "execution_count": 108,
   "metadata": {},
   "outputs": [
    {
     "data": {
      "image/png": "[encoded data removed]",
      "text/plain": [
       "<Figure size 1000x600 with 1 Axes>"
      ]
     },
     "metadata": {},
     "output_type": "display_data"
    }
   ],
   "source": [
    "# Set the style of seaborn\n",
    "sns.set_theme(style=\"whitegrid\")\n",
    "\n",
    "# Plotting the distribution of 'price'\n",
    "plt.figure(figsize=(10, 6))\n",
    "sns.histplot(df['totalPrice'], bins=30, kde=True, color='blue', stat='density')\n",
    "\n",
    "# Adding titles and labels\n",
    "plt.title('Distribution of Price', fontsize=16)\n",
    "plt.xlabel('Price', fontsize=14)\n",
    "plt.ylabel('Density', fontsize=14)\n",
    "\n",
    "# Show the plot\n",
    "plt.show()"
   ]
  },
  {
   "cell_type": "code",
   "execution_count": 110,
   "metadata": {},
   "outputs": [],
   "source": [
    "df.to_csv('cleaned.csv',index=False)"
   ]
  }
 ],
 "metadata": {
  "kernelspec": {
   "display_name": "base",
   "language": "python",
   "name": "python3"
  },
  "language_info": {
   "codemirror_mode": {
    "name": "ipython",
    "version": 3
   },
   "file_extension": ".py",
   "mimetype": "text/x-python",
   "name": "python",
   "nbconvert_exporter": "python",
   "pygments_lexer": "ipython3",
   "version": "3.12.2"
  }
 },
 "nbformat": 4,
 "nbformat_minor": 2
}
