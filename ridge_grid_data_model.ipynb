{
  "nbformat": 4,
  "nbformat_minor": 0,
  "metadata": {
    "colab": {
      "provenance": []
    },
    "kernelspec": {
      "name": "python3",
      "display_name": "Python 3"
    },
    "language_info": {
      "name": "python"
    }
  },
  "cells": [
    {
      "cell_type": "code",
      "execution_count": 1,
      "metadata": {
        "id": "bwAs62O27QZs"
      },
      "outputs": [],
      "source": [
        "# Data Processing\n",
        "import pandas as pd\n",
        "import numpy as np"
      ]
    },
    {
      "cell_type": "code",
      "source": [
        "from sklearn.linear_model import Ridge"
      ],
      "metadata": {
        "id": "9WYieT2u7WHl"
      },
      "execution_count": 2,
      "outputs": []
    },
    {
      "cell_type": "code",
      "source": [
        "from google.colab import drive\n",
        "drive.mount('/content/drive', force_remount=True)"
      ],
      "metadata": {
        "id": "W025s4F1FV9D"
      },
      "execution_count": null,
      "outputs": []
    },
    {
      "cell_type": "code",
      "source": [
        "df = pd.read_csv('/content/drive/MyDrive/Data Analytics and Data Mining/Assignment/cleaned_grid_20.csv')\n",
        "df.head()"
      ],
      "metadata": {
        "colab": {
          "base_uri": "https://localhost:8080/",
          "height": 256
        },
        "id": "N8B2Sz8x7bAT",
        "outputId": "bd9b81ad-ddf2-43d0-8e47-6486228369fd"
      },
      "execution_count": 3,
      "outputs": [
        {
          "output_type": "execute_result",
          "data": {
            "text/plain": [
              "        DOM  followers  totalPrice    square  livingRoom  drawingRoom  \\\n",
              "0  0.872912   0.092738    0.084675  0.195422       0.250          0.2   \n",
              "1  0.538186   0.110236    0.117329  0.197604       0.250          0.4   \n",
              "2  0.757757   0.041995    0.210188  0.301329       0.375          0.4   \n",
              "3  0.575179   0.120735    0.060695  0.200164       0.375          0.2   \n",
              "4  0.552506   0.250219    0.079981  0.116387       0.250          0.2   \n",
              "\n",
              "    kitchen  bathRoom  constructionTime   ladderRatio  ...  [18,6]  [18,7]  \\\n",
              "0  0.333333  0.142857          0.833333  2.028094e-08  ...       0       0   \n",
              "1  0.333333  0.285714          0.818182  6.523868e-08  ...       0       0   \n",
              "2  0.333333  0.428571          0.833333  4.855436e-08  ...       0       0   \n",
              "3  0.333333  0.142857          0.878788  2.587568e-08  ...       0       0   \n",
              "4  0.333333  0.142857          0.151515  3.187004e-08  ...       0       0   \n",
              "\n",
              "   [18,18]  [18,19]  [19,1]  [19,2]  [19,4]  [19,5]  [19,6]  [19,9]  \n",
              "0        0        0       0       0       0       0       0       0  \n",
              "1        0        0       0       0       0       0       0       0  \n",
              "2        0        0       0       0       0       0       0       0  \n",
              "3        0        0       0       0       0       0       0       0  \n",
              "4        0        0       0       0       0       0       0       0  \n",
              "\n",
              "[5 rows x 234 columns]"
            ],
            "text/html": [
              "\n",
              "  <div id=\"df-c6253de6-9bfc-464d-b447-6e50d005bc36\" class=\"colab-df-container\">\n",
              "    <div>\n",
              "<style scoped>\n",
              "    .dataframe tbody tr th:only-of-type {\n",
              "        vertical-align: middle;\n",
              "    }\n",
              "\n",
              "    .dataframe tbody tr th {\n",
              "        vertical-align: top;\n",
              "    }\n",
              "\n",
              "    .dataframe thead th {\n",
              "        text-align: right;\n",
              "    }\n",
              "</style>\n",
              "<table border=\"1\" class=\"dataframe\">\n",
              "  <thead>\n",
              "    <tr style=\"text-align: right;\">\n",
              "      <th></th>\n",
              "      <th>DOM</th>\n",
              "      <th>followers</th>\n",
              "      <th>totalPrice</th>\n",
              "      <th>square</th>\n",
              "      <th>livingRoom</th>\n",
              "      <th>drawingRoom</th>\n",
              "      <th>kitchen</th>\n",
              "      <th>bathRoom</th>\n",
              "      <th>constructionTime</th>\n",
              "      <th>ladderRatio</th>\n",
              "      <th>...</th>\n",
              "      <th>[18,6]</th>\n",
              "      <th>[18,7]</th>\n",
              "      <th>[18,18]</th>\n",
              "      <th>[18,19]</th>\n",
              "      <th>[19,1]</th>\n",
              "      <th>[19,2]</th>\n",
              "      <th>[19,4]</th>\n",
              "      <th>[19,5]</th>\n",
              "      <th>[19,6]</th>\n",
              "      <th>[19,9]</th>\n",
              "    </tr>\n",
              "  </thead>\n",
              "  <tbody>\n",
              "    <tr>\n",
              "      <th>0</th>\n",
              "      <td>0.872912</td>\n",
              "      <td>0.092738</td>\n",
              "      <td>0.084675</td>\n",
              "      <td>0.195422</td>\n",
              "      <td>0.250</td>\n",
              "      <td>0.2</td>\n",
              "      <td>0.333333</td>\n",
              "      <td>0.142857</td>\n",
              "      <td>0.833333</td>\n",
              "      <td>2.028094e-08</td>\n",
              "      <td>...</td>\n",
              "      <td>0</td>\n",
              "      <td>0</td>\n",
              "      <td>0</td>\n",
              "      <td>0</td>\n",
              "      <td>0</td>\n",
              "      <td>0</td>\n",
              "      <td>0</td>\n",
              "      <td>0</td>\n",
              "      <td>0</td>\n",
              "      <td>0</td>\n",
              "    </tr>\n",
              "    <tr>\n",
              "      <th>1</th>\n",
              "      <td>0.538186</td>\n",
              "      <td>0.110236</td>\n",
              "      <td>0.117329</td>\n",
              "      <td>0.197604</td>\n",
              "      <td>0.250</td>\n",
              "      <td>0.4</td>\n",
              "      <td>0.333333</td>\n",
              "      <td>0.285714</td>\n",
              "      <td>0.818182</td>\n",
              "      <td>6.523868e-08</td>\n",
              "      <td>...</td>\n",
              "      <td>0</td>\n",
              "      <td>0</td>\n",
              "      <td>0</td>\n",
              "      <td>0</td>\n",
              "      <td>0</td>\n",
              "      <td>0</td>\n",
              "      <td>0</td>\n",
              "      <td>0</td>\n",
              "      <td>0</td>\n",
              "      <td>0</td>\n",
              "    </tr>\n",
              "    <tr>\n",
              "      <th>2</th>\n",
              "      <td>0.757757</td>\n",
              "      <td>0.041995</td>\n",
              "      <td>0.210188</td>\n",
              "      <td>0.301329</td>\n",
              "      <td>0.375</td>\n",
              "      <td>0.4</td>\n",
              "      <td>0.333333</td>\n",
              "      <td>0.428571</td>\n",
              "      <td>0.833333</td>\n",
              "      <td>4.855436e-08</td>\n",
              "      <td>...</td>\n",
              "      <td>0</td>\n",
              "      <td>0</td>\n",
              "      <td>0</td>\n",
              "      <td>0</td>\n",
              "      <td>0</td>\n",
              "      <td>0</td>\n",
              "      <td>0</td>\n",
              "      <td>0</td>\n",
              "      <td>0</td>\n",
              "      <td>0</td>\n",
              "    </tr>\n",
              "    <tr>\n",
              "      <th>3</th>\n",
              "      <td>0.575179</td>\n",
              "      <td>0.120735</td>\n",
              "      <td>0.060695</td>\n",
              "      <td>0.200164</td>\n",
              "      <td>0.375</td>\n",
              "      <td>0.2</td>\n",
              "      <td>0.333333</td>\n",
              "      <td>0.142857</td>\n",
              "      <td>0.878788</td>\n",
              "      <td>2.587568e-08</td>\n",
              "      <td>...</td>\n",
              "      <td>0</td>\n",
              "      <td>0</td>\n",
              "      <td>0</td>\n",
              "      <td>0</td>\n",
              "      <td>0</td>\n",
              "      <td>0</td>\n",
              "      <td>0</td>\n",
              "      <td>0</td>\n",
              "      <td>0</td>\n",
              "      <td>0</td>\n",
              "    </tr>\n",
              "    <tr>\n",
              "      <th>4</th>\n",
              "      <td>0.552506</td>\n",
              "      <td>0.250219</td>\n",
              "      <td>0.079981</td>\n",
              "      <td>0.116387</td>\n",
              "      <td>0.250</td>\n",
              "      <td>0.2</td>\n",
              "      <td>0.333333</td>\n",
              "      <td>0.142857</td>\n",
              "      <td>0.151515</td>\n",
              "      <td>3.187004e-08</td>\n",
              "      <td>...</td>\n",
              "      <td>0</td>\n",
              "      <td>0</td>\n",
              "      <td>0</td>\n",
              "      <td>0</td>\n",
              "      <td>0</td>\n",
              "      <td>0</td>\n",
              "      <td>0</td>\n",
              "      <td>0</td>\n",
              "      <td>0</td>\n",
              "      <td>0</td>\n",
              "    </tr>\n",
              "  </tbody>\n",
              "</table>\n",
              "<p>5 rows × 234 columns</p>\n",
              "</div>\n",
              "    <div class=\"colab-df-buttons\">\n",
              "\n",
              "  <div class=\"colab-df-container\">\n",
              "    <button class=\"colab-df-convert\" onclick=\"convertToInteractive('df-c6253de6-9bfc-464d-b447-6e50d005bc36')\"\n",
              "            title=\"Convert this dataframe to an interactive table.\"\n",
              "            style=\"display:none;\">\n",
              "\n",
              "  <svg xmlns=\"http://www.w3.org/2000/svg\" height=\"24px\" viewBox=\"0 -960 960 960\">\n",
              "    <path d=\"M120-120v-720h720v720H120Zm60-500h600v-160H180v160Zm220 220h160v-160H400v160Zm0 220h160v-160H400v160ZM180-400h160v-160H180v160Zm440 0h160v-160H620v160ZM180-180h160v-160H180v160Zm440 0h160v-160H620v160Z\"/>\n",
              "  </svg>\n",
              "    </button>\n",
              "\n",
              "  <style>\n",
              "    .colab-df-container {\n",
              "      display:flex;\n",
              "      gap: 12px;\n",
              "    }\n",
              "\n",
              "    .colab-df-convert {\n",
              "      background-color: #E8F0FE;\n",
              "      border: none;\n",
              "      border-radius: 50%;\n",
              "      cursor: pointer;\n",
              "      display: none;\n",
              "      fill: #1967D2;\n",
              "      height: 32px;\n",
              "      padding: 0 0 0 0;\n",
              "      width: 32px;\n",
              "    }\n",
              "\n",
              "    .colab-df-convert:hover {\n",
              "      background-color: #E2EBFA;\n",
              "      box-shadow: 0px 1px 2px rgba(60, 64, 67, 0.3), 0px 1px 3px 1px rgba(60, 64, 67, 0.15);\n",
              "      fill: #174EA6;\n",
              "    }\n",
              "\n",
              "    .colab-df-buttons div {\n",
              "      margin-bottom: 4px;\n",
              "    }\n",
              "\n",
              "    [theme=dark] .colab-df-convert {\n",
              "      background-color: #3B4455;\n",
              "      fill: #D2E3FC;\n",
              "    }\n",
              "\n",
              "    [theme=dark] .colab-df-convert:hover {\n",
              "      background-color: #434B5C;\n",
              "      box-shadow: 0px 1px 3px 1px rgba(0, 0, 0, 0.15);\n",
              "      filter: drop-shadow(0px 1px 2px rgba(0, 0, 0, 0.3));\n",
              "      fill: #FFFFFF;\n",
              "    }\n",
              "  </style>\n",
              "\n",
              "    <script>\n",
              "      const buttonEl =\n",
              "        document.querySelector('#df-c6253de6-9bfc-464d-b447-6e50d005bc36 button.colab-df-convert');\n",
              "      buttonEl.style.display =\n",
              "        google.colab.kernel.accessAllowed ? 'block' : 'none';\n",
              "\n",
              "      async function convertToInteractive(key) {\n",
              "        const element = document.querySelector('#df-c6253de6-9bfc-464d-b447-6e50d005bc36');\n",
              "        const dataTable =\n",
              "          await google.colab.kernel.invokeFunction('convertToInteractive',\n",
              "                                                    [key], {});\n",
              "        if (!dataTable) return;\n",
              "\n",
              "        const docLinkHtml = 'Like what you see? Visit the ' +\n",
              "          '<a target=\"_blank\" href=https://colab.research.google.com/notebooks/data_table.ipynb>data table notebook</a>'\n",
              "          + ' to learn more about interactive tables.';\n",
              "        element.innerHTML = '';\n",
              "        dataTable['output_type'] = 'display_data';\n",
              "        await google.colab.output.renderOutput(dataTable, element);\n",
              "        const docLink = document.createElement('div');\n",
              "        docLink.innerHTML = docLinkHtml;\n",
              "        element.appendChild(docLink);\n",
              "      }\n",
              "    </script>\n",
              "  </div>\n",
              "\n",
              "\n",
              "<div id=\"df-c84d28ce-4d4a-4b97-ac6e-677bcbec4683\">\n",
              "  <button class=\"colab-df-quickchart\" onclick=\"quickchart('df-c84d28ce-4d4a-4b97-ac6e-677bcbec4683')\"\n",
              "            title=\"Suggest charts\"\n",
              "            style=\"display:none;\">\n",
              "\n",
              "<svg xmlns=\"http://www.w3.org/2000/svg\" height=\"24px\"viewBox=\"0 0 24 24\"\n",
              "     width=\"24px\">\n",
              "    <g>\n",
              "        <path d=\"M19 3H5c-1.1 0-2 .9-2 2v14c0 1.1.9 2 2 2h14c1.1 0 2-.9 2-2V5c0-1.1-.9-2-2-2zM9 17H7v-7h2v7zm4 0h-2V7h2v10zm4 0h-2v-4h2v4z\"/>\n",
              "    </g>\n",
              "</svg>\n",
              "  </button>\n",
              "\n",
              "<style>\n",
              "  .colab-df-quickchart {\n",
              "      --bg-color: #E8F0FE;\n",
              "      --fill-color: #1967D2;\n",
              "      --hover-bg-color: #E2EBFA;\n",
              "      --hover-fill-color: #174EA6;\n",
              "      --disabled-fill-color: #AAA;\n",
              "      --disabled-bg-color: #DDD;\n",
              "  }\n",
              "\n",
              "  [theme=dark] .colab-df-quickchart {\n",
              "      --bg-color: #3B4455;\n",
              "      --fill-color: #D2E3FC;\n",
              "      --hover-bg-color: #434B5C;\n",
              "      --hover-fill-color: #FFFFFF;\n",
              "      --disabled-bg-color: #3B4455;\n",
              "      --disabled-fill-color: #666;\n",
              "  }\n",
              "\n",
              "  .colab-df-quickchart {\n",
              "    background-color: var(--bg-color);\n",
              "    border: none;\n",
              "    border-radius: 50%;\n",
              "    cursor: pointer;\n",
              "    display: none;\n",
              "    fill: var(--fill-color);\n",
              "    height: 32px;\n",
              "    padding: 0;\n",
              "    width: 32px;\n",
              "  }\n",
              "\n",
              "  .colab-df-quickchart:hover {\n",
              "    background-color: var(--hover-bg-color);\n",
              "    box-shadow: 0 1px 2px rgba(60, 64, 67, 0.3), 0 1px 3px 1px rgba(60, 64, 67, 0.15);\n",
              "    fill: var(--button-hover-fill-color);\n",
              "  }\n",
              "\n",
              "  .colab-df-quickchart-complete:disabled,\n",
              "  .colab-df-quickchart-complete:disabled:hover {\n",
              "    background-color: var(--disabled-bg-color);\n",
              "    fill: var(--disabled-fill-color);\n",
              "    box-shadow: none;\n",
              "  }\n",
              "\n",
              "  .colab-df-spinner {\n",
              "    border: 2px solid var(--fill-color);\n",
              "    border-color: transparent;\n",
              "    border-bottom-color: var(--fill-color);\n",
              "    animation:\n",
              "      spin 1s steps(1) infinite;\n",
              "  }\n",
              "\n",
              "  @keyframes spin {\n",
              "    0% {\n",
              "      border-color: transparent;\n",
              "      border-bottom-color: var(--fill-color);\n",
              "      border-left-color: var(--fill-color);\n",
              "    }\n",
              "    20% {\n",
              "      border-color: transparent;\n",
              "      border-left-color: var(--fill-color);\n",
              "      border-top-color: var(--fill-color);\n",
              "    }\n",
              "    30% {\n",
              "      border-color: transparent;\n",
              "      border-left-color: var(--fill-color);\n",
              "      border-top-color: var(--fill-color);\n",
              "      border-right-color: var(--fill-color);\n",
              "    }\n",
              "    40% {\n",
              "      border-color: transparent;\n",
              "      border-right-color: var(--fill-color);\n",
              "      border-top-color: var(--fill-color);\n",
              "    }\n",
              "    60% {\n",
              "      border-color: transparent;\n",
              "      border-right-color: var(--fill-color);\n",
              "    }\n",
              "    80% {\n",
              "      border-color: transparent;\n",
              "      border-right-color: var(--fill-color);\n",
              "      border-bottom-color: var(--fill-color);\n",
              "    }\n",
              "    90% {\n",
              "      border-color: transparent;\n",
              "      border-bottom-color: var(--fill-color);\n",
              "    }\n",
              "  }\n",
              "</style>\n",
              "\n",
              "  <script>\n",
              "    async function quickchart(key) {\n",
              "      const quickchartButtonEl =\n",
              "        document.querySelector('#' + key + ' button');\n",
              "      quickchartButtonEl.disabled = true;  // To prevent multiple clicks.\n",
              "      quickchartButtonEl.classList.add('colab-df-spinner');\n",
              "      try {\n",
              "        const charts = await google.colab.kernel.invokeFunction(\n",
              "            'suggestCharts', [key], {});\n",
              "      } catch (error) {\n",
              "        console.error('Error during call to suggestCharts:', error);\n",
              "      }\n",
              "      quickchartButtonEl.classList.remove('colab-df-spinner');\n",
              "      quickchartButtonEl.classList.add('colab-df-quickchart-complete');\n",
              "    }\n",
              "    (() => {\n",
              "      let quickchartButtonEl =\n",
              "        document.querySelector('#df-c84d28ce-4d4a-4b97-ac6e-677bcbec4683 button');\n",
              "      quickchartButtonEl.style.display =\n",
              "        google.colab.kernel.accessAllowed ? 'block' : 'none';\n",
              "    })();\n",
              "  </script>\n",
              "</div>\n",
              "\n",
              "    </div>\n",
              "  </div>\n"
            ],
            "application/vnd.google.colaboratory.intrinsic+json": {
              "type": "dataframe",
              "variable_name": "df"
            }
          },
          "metadata": {},
          "execution_count": 3
        }
      ]
    },
    {
      "cell_type": "code",
      "source": [
        "from sklearn.model_selection import train_test_split"
      ],
      "metadata": {
        "id": "WVrS7J3V7k-2"
      },
      "execution_count": 4,
      "outputs": []
    },
    {
      "cell_type": "code",
      "source": [
        "X_g = df.drop(['price', 'totalPrice'], axis=1)\n",
        "y_g = df['price']"
      ],
      "metadata": {
        "id": "ZsTBdlji7nSv"
      },
      "execution_count": null,
      "outputs": []
    },
    {
      "cell_type": "code",
      "source": [
        "# Grid 20\n",
        "# X_g = df.drop(['price', 'totalPrice', '[8,8]', '[14,8]', 'drawingRoom', 'ladderRatio', 'buildingStructure_5.0', 'subway_1.0', 'district_2.0', 'district_3.0', 'district_4.0', 'district_11.0', 'district_12.0', 'floorType_0.0', 'floorType_1.0', 'floorType_3.0', '[0,0]', '[1,0]', '[1,10]', '[3,0]', '[3,2]', '[4,3]', '[4,4]', '[4,11]', '[4,14]', '[5,4]', '[6,7]', '[6,8]', '[6,9]', '[6,15]', '[7,3]', '[7,14]', '[8,2]', '[8,4]', '[8,5]', '[8,12]', '[9,3]', '[9,4]', '[9,6]', '[9,10]', '[9,14]', '[10,4]', '[10,5]', '[10,10]', '[10,14]', '[10,15]', '[11,4]', '[11,5]', '[11,13]', '[12,7]', '[12,8]', '[12,9]', '[12,12]', '[13,17]', '[14,3]', '[14,6]', '[15,2]', '[15,5]', '[15,6]', '[15,7]', '[15,10]', '[15,12]', '[15,14]', '[16,2]', '[16,5]', '[16,17]', '[16,10]', '[16,11]', '[17,8]', '[17,11]', '[18,3]', '[18,4]', '[18,6]', '[18,7]', '[18,19]', '[19,1]', '[19,5]', '[19,9]'], axis=1)\n",
        "# y_g = df['price']"
      ],
      "metadata": {
        "id": "pNA9A3hi3hmF"
      },
      "execution_count": 6,
      "outputs": []
    },
    {
      "cell_type": "code",
      "source": [
        "# Grid 10\n",
        "# df = pd.read_csv('/content/drive/MyDrive/Data Analytics and Data Mining/Assignment/cleaned_grid_10.csv')\n",
        "# X_g = df.drop(['price', 'totalPrice', 'drawingRoom', 'constructionTime', 'ladderRatio', 'buildingStructure_2.0',\n",
        "#     'buildingStructure_5.0', 'district_2.0', 'district_3.0', 'district_4.0',\n",
        "#     'district_6.0', 'district_8.0', 'district_11.0', 'district_12.0',\n",
        "#     'district_13.0', 'floorType_0.0', 'floorType_1.0', 'floorType_3.0',\n",
        "#     '[0,0]', '[0,3]', '[0,4]', '[0,5]', '[1,1]', '[1,4]', '[1,7]',\n",
        "#     '[2,1]', '[2,3]', '[2,5]', '[2,6]', '[2,8]', '[3,1]', '[3,2]',\n",
        "#     '[3,5]', '[3,6]', '[3,8]', '[4,7]', '[5,0]', '[5,1]', '[6,1]',\n",
        "#     '[6,2]', '[6,4]', '[6,5]', '[7,1]', '[7,2]', '[7,4]', '[7,6]',\n",
        "#     '[7,7]', '[7,9]', '[8,1]', '[8,4]', '[8,5]', '[8,8]', '[9,0]',\n",
        "#     '[9,3]', '[9,4]'], axis=1)\n",
        "# y_g = df['price']"
      ],
      "metadata": {
        "id": "ZVYlDzFH36WN"
      },
      "execution_count": 16,
      "outputs": []
    },
    {
      "cell_type": "code",
      "source": [
        "# District\n",
        "df = pd.read_csv('/content/drive/MyDrive/Data Analytics and Data Mining/Assignment/cleaned_en_mc_scaled.csv')\n",
        "X_g = df.drop(['price', 'totalPrice', 'ladderRatio', 'buildingStructure_1.0', 'buildingStructure_2.0',\n",
        "    'buildingStructure_5.0', 'district_2.0', 'district_3.0',\n",
        "    'district_7.0', 'floorType_0.0', 'floorType_1.0', 'floorType_3.0'], axis=1)\n",
        "y_g = df['price']"
      ],
      "metadata": {
        "id": "5l9nZsZu4oqR"
      },
      "execution_count": 25,
      "outputs": []
    },
    {
      "cell_type": "code",
      "source": [
        "X_train, X_test, y_train, y_test = train_test_split(\n",
        "    X_g, y_g, test_size=0.33, random_state=42)"
      ],
      "metadata": {
        "id": "M4xwzrUO7peE"
      },
      "execution_count": 26,
      "outputs": []
    },
    {
      "cell_type": "code",
      "source": [
        "clf = Ridge(alpha=0.02)\n",
        "ridge = clf.fit(X_train, y_train)"
      ],
      "metadata": {
        "id": "qrb8i0nP7r3L"
      },
      "execution_count": 27,
      "outputs": []
    },
    {
      "cell_type": "code",
      "source": [
        "from sklearn.metrics import r2_score\n",
        "from sklearn.metrics import mean_squared_error\n",
        "from sklearn.metrics import mean_squared_log_error"
      ],
      "metadata": {
        "id": "6Kqsai797z7T"
      },
      "execution_count": 28,
      "outputs": []
    },
    {
      "cell_type": "code",
      "source": [
        "y_pred_train = ridge.predict(X_train)"
      ],
      "metadata": {
        "id": "MRyzmMnp7-_g"
      },
      "execution_count": 29,
      "outputs": []
    },
    {
      "cell_type": "code",
      "source": [
        "print('R2 score:', r2_score(y_train, y_pred_train))\n",
        "print('MSE:', mean_squared_error(y_train, y_pred_train))\n",
        "print('RMSE:', np.sqrt(mean_squared_error(y_train, y_pred_train)))\n",
        "print('RMSLE:', np.sqrt(mean_squared_log_error(y_train, y_pred_train)))"
      ],
      "metadata": {
        "colab": {
          "base_uri": "https://localhost:8080/"
        },
        "id": "PUt0pCtm8Dxm",
        "outputId": "2a140a34-ce88-4b47-9121-473b7cc09d9f"
      },
      "execution_count": 30,
      "outputs": [
        {
          "output_type": "stream",
          "name": "stdout",
          "text": [
            "R2 score: 0.6315977056757685\n",
            "MSE: 0.007052071836351077\n",
            "RMSE: 0.08397661481835926\n",
            "RMSLE: 0.061442714818328734\n"
          ]
        }
      ]
    },
    {
      "cell_type": "code",
      "source": [
        "y_pred = ridge.predict(X_test)"
      ],
      "metadata": {
        "id": "ETCe32-l8Jbk"
      },
      "execution_count": 31,
      "outputs": []
    },
    {
      "cell_type": "code",
      "source": [
        "print('R2 score:', r2_score(y_test, y_pred))\n",
        "print('MSE:', mean_squared_error(y_test, y_pred))\n",
        "print('RMSE:', np.sqrt(mean_squared_error(y_test, y_pred)))\n",
        "print('RMSLE:', np.sqrt(mean_squared_log_error(y_test, y_pred)))"
      ],
      "metadata": {
        "colab": {
          "base_uri": "https://localhost:8080/"
        },
        "id": "hKKsFBsP8fW6",
        "outputId": "78612fbb-c0c0-4292-f82b-87608bb0b1b3"
      },
      "execution_count": 32,
      "outputs": [
        {
          "output_type": "stream",
          "name": "stdout",
          "text": [
            "R2 score: 0.6270544495303328\n",
            "MSE: 0.007078206723756441\n",
            "RMSE: 0.08413207904097249\n",
            "RMSLE: 0.06159320763557732\n"
          ]
        }
      ]
    },
    {
      "cell_type": "code",
      "source": [
        "import matplotlib.pyplot as plt\n",
        "\n",
        "plt.figure(figsize=(8, 6))\n",
        "plt.scatter(y_test, y_pred)\n",
        "plt.plot([y_test.min(), y_test.max()], [y_test.min(), y_test.max()], 'k--', lw=2)  # Perfect prediction line\n",
        "plt.xlabel('Actual Values (y_test)')\n",
        "plt.ylabel('Predicted Values (y_pred)')\n",
        "plt.title('Actual vs Predicted Values')\n",
        "plt.show()"
      ],
      "metadata": {
        "colab": {
          "base_uri": "https://localhost:8080/",
          "height": 564
        },
        "id": "jN11wb_34LbN",
        "outputId": "2b96ea96-5dbc-415b-9c73-08102fa55782"
      },
      "execution_count": 33,
      "outputs": [
        {
          "output_type": "display_data",
          "data": {
            "text/plain": [
              "<Figure size 800x600 with 1 Axes>"
            ],
            "image/png": "[encoded data removed]"
          },
          "metadata": {}
        }
      ]
    }
  ]
}